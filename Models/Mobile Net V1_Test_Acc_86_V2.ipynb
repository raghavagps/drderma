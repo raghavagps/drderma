{
 "cells": [
  {
   "cell_type": "markdown",
   "metadata": {
    "id": "U7j5B2r_ZBxT"
   },
   "source": [
    "# Import Statements"
   ]
  },
  {
   "cell_type": "code",
   "execution_count": 1,
   "metadata": {
    "id": "EsteEwFALyTR"
   },
   "outputs": [],
   "source": [
    "import pandas as pd\n",
    "import numpy as np\n",
    "import os\n",
    "from tqdm import tqdm\n",
    "import math\n",
    "import tensorflow as tf\n",
    "from tensorflow.keras.preprocessing.image import ImageDataGenerator\n",
    "from PIL import Image\n",
    "from sklearn.preprocessing import LabelEncoder\n",
    "import PIL\n",
    "import matplotlib.pyplot as plt\n",
    "import glob\n",
    "import warnings\n",
    "warnings.filterwarnings('ignore')\n",
    "import tensorflow_addons as tfa\n",
    "from tensorflow.keras.metrics import top_k_categorical_accuracy, categorical_accuracy\n"
   ]
  },
  {
   "cell_type": "code",
   "execution_count": 2,
   "metadata": {},
   "outputs": [],
   "source": [
    "root = \"D:\\IIIT-D\\Summer Semester\\CAPSTONE PROJECT\\Complete Dataset\""
   ]
  },
  {
   "cell_type": "code",
   "execution_count": 3,
   "metadata": {},
   "outputs": [],
   "source": [
    "train_dir = root+'/Hair Removed Images/train'\n",
    "val_dir = root+'/Hair Removed Images/val'\n",
    "test_dir = root+'/Hair Removed Images/test'"
   ]
  },
  {
   "cell_type": "markdown",
   "metadata": {
    "id": "lekprLVHax54"
   },
   "source": [
    "# Build A Model"
   ]
  },
  {
   "cell_type": "markdown",
   "metadata": {
    "id": "7-r946OCa3_d"
   },
   "source": [
    "## Preprocessing"
   ]
  },
  {
   "cell_type": "code",
   "execution_count": 4,
   "metadata": {
    "id": "JE815ffda66Q"
   },
   "outputs": [],
   "source": [
    "train_datagen = ImageDataGenerator(preprocessing_function = tf.keras.applications.mobilenet.preprocess_input)"
   ]
  },
  {
   "cell_type": "code",
   "execution_count": 5,
   "metadata": {
    "id": "BF8JO6mGbYzP"
   },
   "outputs": [],
   "source": [
    "# test_datagen = ImageDataGenerator(rescale=1./255)"
   ]
  },
  {
   "cell_type": "code",
   "execution_count": 6,
   "metadata": {
    "colab": {
     "base_uri": "https://localhost:8080/"
    },
    "id": "Ju6n_3m9bgUn",
    "outputId": "251c71b5-d585-413e-f5fd-6d9fd73c073a"
   },
   "outputs": [
    {
     "name": "stdout",
     "output_type": "stream",
     "text": [
      "Found 40253 images belonging to 7 classes.\n"
     ]
    }
   ],
   "source": [
    "train_data = train_datagen.flow_from_directory(train_dir,target_size=(224,224),batch_size=32,class_mode='categorical',seed=42)"
   ]
  },
  {
   "cell_type": "code",
   "execution_count": 7,
   "metadata": {
    "colab": {
     "base_uri": "https://localhost:8080/"
    },
    "id": "O0IIuLhpb1f9",
    "outputId": "efb63246-df40-4d4b-abc6-0e1694ffd4a4"
   },
   "outputs": [
    {
     "name": "stdout",
     "output_type": "stream",
     "text": [
      "Found 1000 images belonging to 7 classes.\n"
     ]
    }
   ],
   "source": [
    "val_data = train_datagen.flow_from_directory(val_dir,target_size=(224,224),batch_size=32,class_mode='categorical',seed=42)"
   ]
  },
  {
   "cell_type": "code",
   "execution_count": 8,
   "metadata": {},
   "outputs": [
    {
     "name": "stdout",
     "output_type": "stream",
     "text": [
      "Found 1007 images belonging to 7 classes.\n"
     ]
    }
   ],
   "source": [
    "test_data = train_datagen.flow_from_directory(test_dir,target_size=(224,224),batch_size=32,class_mode='categorical',shuffle=False)"
   ]
  },
  {
   "cell_type": "markdown",
   "metadata": {
    "id": "7eKAdFwLeUw_"
   },
   "source": [
    "# Building The CNN"
   ]
  },
  {
   "cell_type": "code",
   "execution_count": 9,
   "metadata": {
    "colab": {
     "base_uri": "https://localhost:8080/"
    },
    "id": "dDfjOPsEsywm",
    "outputId": "e436218d-d798-4060-8022-0b7833aaba9e"
   },
   "outputs": [
    {
     "name": "stdout",
     "output_type": "stream",
     "text": [
      "WARNING:tensorflow:`input_shape` is undefined or non-square, or `rows` is not in [128, 160, 192, 224]. Weights for input shape (224, 224) will be loaded as the default.\n"
     ]
    }
   ],
   "source": [
    "from tensorflow.keras.applications import MobileNet\n",
    "from tensorflow.keras.layers import Dense,GlobalAveragePooling2D\n",
    "from tensorflow.keras.models import Model\n",
    "\n",
    "base_model=MobileNet(weights='imagenet',include_top=False) #imports the mobilenet model and discards the last 1000 neuron layer.\n",
    "\n",
    "x=base_model.output\n",
    "x=GlobalAveragePooling2D()(x)\n",
    "x=Dense(1024,activation='relu')(x) #we add dense layers so that the model can learn more complex functions and classify for better results.\n",
    "x=Dense(1024,activation='relu')(x) #dense layer 2\n",
    "x=Dense(512,activation='relu')(x) #dense layer 3\n",
    "preds=Dense(7,activation='softmax')(x) #final layer with softmax activation"
   ]
  },
  {
   "cell_type": "code",
   "execution_count": 10,
   "metadata": {},
   "outputs": [],
   "source": [
    "model=Model(inputs=base_model.input,outputs=preds)\n",
    "#specify the inputs\n",
    "#specify the outputs\n",
    "#now a model has been created based on our architecture"
   ]
  },
  {
   "cell_type": "code",
   "execution_count": 11,
   "metadata": {},
   "outputs": [],
   "source": [
    "# for layer in model.layers:\n",
    "#     layer.trainable=False\n",
    "# # or if we want to set the first 20 layers of the network to be non-trainable\n",
    "# for layer in model.layers[:20]:\n",
    "#     layer.trainable=False\n",
    "# for layer in model.layers[20:]:\n",
    "#     layer.trainable=True"
   ]
  },
  {
   "cell_type": "code",
   "execution_count": 12,
   "metadata": {},
   "outputs": [],
   "source": [
    "def top_2_acc(y_true, y_pred):\n",
    "    return top_k_categorical_accuracy(y_true, y_pred, k=2)"
   ]
  },
  {
   "cell_type": "code",
   "execution_count": 13,
   "metadata": {},
   "outputs": [],
   "source": [
    "def top_3_acc(y_true, y_pred):\n",
    "    return top_k_categorical_accuracy(y_true, y_pred, k=3)"
   ]
  },
  {
   "cell_type": "code",
   "execution_count": 14,
   "metadata": {},
   "outputs": [],
   "source": [
    "from tensorflow.keras.callbacks import ReduceLROnPlateau, EarlyStopping"
   ]
  },
  {
   "cell_type": "code",
   "execution_count": 15,
   "metadata": {},
   "outputs": [],
   "source": [
    "lrReduction=ReduceLROnPlateau(monitor='val_accuracy',\n",
    "                              factor=0.5,\n",
    "                              patience=2,\n",
    "                              verbose=1,\n",
    "                              mode='auto',\n",
    "                              min_lr=0.00001)"
   ]
  },
  {
   "cell_type": "code",
   "execution_count": 16,
   "metadata": {},
   "outputs": [],
   "source": [
    "early_stopping = EarlyStopping(monitor=\"val_accuracy\", patience=5, verbose=1)"
   ]
  },
  {
   "cell_type": "code",
   "execution_count": 17,
   "metadata": {
    "scrolled": true
   },
   "outputs": [],
   "source": [
    "# model = tf.keras.models.load_model('D:\\IIIT-D\\Summer Semester\\CAPSTONE PROJECT\\Saved Models\\Mobile_Net_83.h5',\n",
    "#                                    custom_objects={'top_2_acc':top_2_acc,'top_3_acc':top_3_acc})"
   ]
  },
  {
   "cell_type": "code",
   "execution_count": 18,
   "metadata": {},
   "outputs": [],
   "source": [
    "from tensorflow.keras.optimizers import Adam\n",
    "model.compile(optimizer='Adam',loss='categorical_crossentropy',metrics=['accuracy',\n",
    "                                                                        top_2_acc,\n",
    "                                                                        top_3_acc,\n",
    "                                                                        tf.metrics.AUC(curve='ROC'),\n",
    "                                                                        tfa.metrics.MatthewsCorrelationCoefficient(num_classes=7)])"
   ]
  },
  {
   "cell_type": "code",
   "execution_count": 19,
   "metadata": {
    "scrolled": true
   },
   "outputs": [
    {
     "name": "stdout",
     "output_type": "stream",
     "text": [
      "Epoch 1/50\n",
      "1257/1257 [==============================] - 425s 333ms/step - loss: 0.7719 - accuracy: 0.7267 - top_2_acc: 0.8752 - top_3_acc: 0.9455 - auc: 0.9496 - MatthewsCorrelationCoefficient: 0.6813 - val_loss: 0.7405 - val_accuracy: 0.7300 - val_top_2_acc: 0.9010 - val_top_3_acc: 0.9780 - val_auc: 0.9560 - val_MatthewsCorrelationCoefficient: 0.5335\n",
      "Epoch 2/50\n",
      "1257/1257 [==============================] - 324s 257ms/step - loss: 0.5091 - accuracy: 0.8176 - top_2_acc: 0.9361 - top_3_acc: 0.9803 - auc: 0.9770 - MatthewsCorrelationCoefficient: 0.7874 - val_loss: 0.5806 - val_accuracy: 0.7920 - val_top_2_acc: 0.9270 - val_top_3_acc: 0.9770 - val_auc: 0.9701 - val_MatthewsCorrelationCoefficient: 0.5835\n",
      "Epoch 3/50\n",
      "1257/1257 [==============================] - 325s 259ms/step - loss: 0.3910 - accuracy: 0.8619 - top_2_acc: 0.9578 - top_3_acc: 0.9880 - auc: 0.9856 - MatthewsCorrelationCoefficient: 0.8390 - val_loss: 0.6052 - val_accuracy: 0.7900 - val_top_2_acc: 0.9300 - val_top_3_acc: 0.9760 - val_auc: 0.9707 - val_MatthewsCorrelationCoefficient: 0.6048\n",
      "Epoch 4/50\n",
      "1257/1257 [==============================] - 324s 257ms/step - loss: 0.3218 - accuracy: 0.8866 - top_2_acc: 0.9681 - top_3_acc: 0.9923 - auc: 0.9897 - MatthewsCorrelationCoefficient: 0.8677 - val_loss: 0.5551 - val_accuracy: 0.7980 - val_top_2_acc: 0.9390 - val_top_3_acc: 0.9800 - val_auc: 0.9726 - val_MatthewsCorrelationCoefficient: 0.6007\n",
      "Epoch 5/50\n",
      "1257/1257 [==============================] - 324s 258ms/step - loss: 0.2730 - accuracy: 0.9041 - top_2_acc: 0.9759 - top_3_acc: 0.9940 - auc: 0.9922 - MatthewsCorrelationCoefficient: 0.8881 - val_loss: 0.5630 - val_accuracy: 0.8370 - val_top_2_acc: 0.9440 - val_top_3_acc: 0.9810 - val_auc: 0.9737 - val_MatthewsCorrelationCoefficient: 0.6777\n",
      "Epoch 6/50\n",
      "1257/1257 [==============================] - 324s 258ms/step - loss: 0.2368 - accuracy: 0.9174 - top_2_acc: 0.9814 - top_3_acc: 0.9951 - auc: 0.9938 - MatthewsCorrelationCoefficient: 0.9037 - val_loss: 0.5612 - val_accuracy: 0.7990 - val_top_2_acc: 0.9440 - val_top_3_acc: 0.9810 - val_auc: 0.9714 - val_MatthewsCorrelationCoefficient: 0.6406\n",
      "Epoch 7/50\n",
      "1257/1257 [==============================] - 325s 259ms/step - loss: 0.1908 - accuracy: 0.9326 - top_2_acc: 0.9865 - top_3_acc: 0.9975 - auc: 0.9956 - MatthewsCorrelationCoefficient: 0.9213 - val_loss: 0.4998 - val_accuracy: 0.8300 - val_top_2_acc: 0.9540 - val_top_3_acc: 0.9850 - val_auc: 0.9778 - val_MatthewsCorrelationCoefficient: 0.6680\n",
      "\n",
      "Epoch 00007: ReduceLROnPlateau reducing learning rate to 0.0005000000237487257.\n",
      "Epoch 8/50\n",
      "1257/1257 [==============================] - 327s 260ms/step - loss: 0.1000 - accuracy: 0.9656 - top_2_acc: 0.9946 - top_3_acc: 0.9993 - auc: 0.9986 - MatthewsCorrelationCoefficient: 0.9599 - val_loss: 0.5518 - val_accuracy: 0.8420 - val_top_2_acc: 0.9500 - val_top_3_acc: 0.9870 - val_auc: 0.9731 - val_MatthewsCorrelationCoefficient: 0.6835\n",
      "Epoch 9/50\n",
      "1257/1257 [==============================] - 327s 260ms/step - loss: 0.0784 - accuracy: 0.9736 - top_2_acc: 0.9963 - top_3_acc: 0.9994 - auc: 0.9988 - MatthewsCorrelationCoefficient: 0.9692 - val_loss: 0.5215 - val_accuracy: 0.8410 - val_top_2_acc: 0.9530 - val_top_3_acc: 0.9870 - val_auc: 0.9764 - val_MatthewsCorrelationCoefficient: 0.6999\n",
      "Epoch 10/50\n",
      "1257/1257 [==============================] - 325s 258ms/step - loss: 0.0616 - accuracy: 0.9789 - top_2_acc: 0.9976 - top_3_acc: 0.9996 - auc: 0.9991 - MatthewsCorrelationCoefficient: 0.9754 - val_loss: 0.6661 - val_accuracy: 0.8380 - val_top_2_acc: 0.9610 - val_top_3_acc: 0.9850 - val_auc: 0.9670 - val_MatthewsCorrelationCoefficient: 0.6843\n",
      "\n",
      "Epoch 00010: ReduceLROnPlateau reducing learning rate to 0.0002500000118743628.\n",
      "Epoch 11/50\n",
      "1257/1257 [==============================] - 324s 258ms/step - loss: 0.0317 - accuracy: 0.9896 - top_2_acc: 0.9990 - top_3_acc: 0.9998 - auc: 0.9997 - MatthewsCorrelationCoefficient: 0.9879 - val_loss: 0.7140 - val_accuracy: 0.8340 - val_top_2_acc: 0.9590 - val_top_3_acc: 0.9860 - val_auc: 0.9652 - val_MatthewsCorrelationCoefficient: 0.6913\n",
      "Epoch 12/50\n",
      "1257/1257 [==============================] - 324s 258ms/step - loss: 0.0210 - accuracy: 0.9934 - top_2_acc: 0.9994 - top_3_acc: 0.9999 - auc: 0.9998 - MatthewsCorrelationCoefficient: 0.9923 - val_loss: 0.9012 - val_accuracy: 0.8340 - val_top_2_acc: 0.9380 - val_top_3_acc: 0.9790 - val_auc: 0.9536 - val_MatthewsCorrelationCoefficient: 0.6907\n",
      "\n",
      "Epoch 00012: ReduceLROnPlateau reducing learning rate to 0.0001250000059371814.\n",
      "Epoch 13/50\n",
      "1257/1257 [==============================] - 324s 258ms/step - loss: 0.0107 - accuracy: 0.9966 - top_2_acc: 0.9998 - top_3_acc: 0.9999 - auc: 0.9999 - MatthewsCorrelationCoefficient: 0.9960 - val_loss: 0.8647 - val_accuracy: 0.8590 - val_top_2_acc: 0.9590 - val_top_3_acc: 0.9860 - val_auc: 0.9564 - val_MatthewsCorrelationCoefficient: 0.7290\n",
      "Epoch 14/50\n",
      "1257/1257 [==============================] - 323s 257ms/step - loss: 0.0086 - accuracy: 0.9974 - top_2_acc: 0.9998 - top_3_acc: 1.0000 - auc: 0.9999 - MatthewsCorrelationCoefficient: 0.9970 - val_loss: 0.8424 - val_accuracy: 0.8560 - val_top_2_acc: 0.9630 - val_top_3_acc: 0.9890 - val_auc: 0.9607 - val_MatthewsCorrelationCoefficient: 0.7221\n",
      "Epoch 15/50\n",
      "1257/1257 [==============================] - 319s 254ms/step - loss: 0.0070 - accuracy: 0.9976 - top_2_acc: 0.9999 - top_3_acc: 1.0000 - auc: 0.9999 - MatthewsCorrelationCoefficient: 0.9972 - val_loss: 1.0458 - val_accuracy: 0.8630 - val_top_2_acc: 0.9540 - val_top_3_acc: 0.9830 - val_auc: 0.9527 - val_MatthewsCorrelationCoefficient: 0.7301\n",
      "Epoch 16/50\n",
      "1257/1257 [==============================] - 324s 257ms/step - loss: 0.0072 - accuracy: 0.9979 - top_2_acc: 0.9998 - top_3_acc: 1.0000 - auc: 0.9999 - MatthewsCorrelationCoefficient: 0.9976 - val_loss: 0.9686 - val_accuracy: 0.8650 - val_top_2_acc: 0.9530 - val_top_3_acc: 0.9830 - val_auc: 0.9563 - val_MatthewsCorrelationCoefficient: 0.7377\n",
      "Epoch 17/50\n",
      "1257/1257 [==============================] - 325s 258ms/step - loss: 0.0073 - accuracy: 0.9976 - top_2_acc: 0.9998 - top_3_acc: 1.0000 - auc: 0.9999 - MatthewsCorrelationCoefficient: 0.9972 - val_loss: 0.9943 - val_accuracy: 0.8650 - val_top_2_acc: 0.9560 - val_top_3_acc: 0.9830 - val_auc: 0.9520 - val_MatthewsCorrelationCoefficient: 0.7328\n",
      "Epoch 18/50\n",
      "1257/1257 [==============================] - 325s 259ms/step - loss: 0.0054 - accuracy: 0.9981 - top_2_acc: 0.9999 - top_3_acc: 1.0000 - auc: 0.9999 - MatthewsCorrelationCoefficient: 0.9978 - val_loss: 1.0187 - val_accuracy: 0.8600 - val_top_2_acc: 0.9560 - val_top_3_acc: 0.9840 - val_auc: 0.9525 - val_MatthewsCorrelationCoefficient: 0.7211\n",
      "\n",
      "Epoch 00018: ReduceLROnPlateau reducing learning rate to 6.25000029685907e-05.\n",
      "Epoch 19/50\n",
      "1257/1257 [==============================] - 334s 265ms/step - loss: 0.0024 - accuracy: 0.9992 - top_2_acc: 1.0000 - top_3_acc: 1.0000 - auc: 1.0000 - MatthewsCorrelationCoefficient: 0.9990 - val_loss: 1.0771 - val_accuracy: 0.8690 - val_top_2_acc: 0.9540 - val_top_3_acc: 0.9840 - val_auc: 0.9462 - val_MatthewsCorrelationCoefficient: 0.7467\n",
      "Epoch 20/50\n",
      "1257/1257 [==============================] - 319s 254ms/step - loss: 0.0039 - accuracy: 0.9989 - top_2_acc: 0.9999 - top_3_acc: 1.0000 - auc: 0.9999 - MatthewsCorrelationCoefficient: 0.9987 - val_loss: 1.0821 - val_accuracy: 0.8640 - val_top_2_acc: 0.9490 - val_top_3_acc: 0.9810 - val_auc: 0.9484 - val_MatthewsCorrelationCoefficient: 0.7335\n",
      "Epoch 21/50\n",
      "1257/1257 [==============================] - 321s 255ms/step - loss: 0.0030 - accuracy: 0.9992 - top_2_acc: 1.0000 - top_3_acc: 1.0000 - auc: 0.9999 - MatthewsCorrelationCoefficient: 0.9990 - val_loss: 1.1612 - val_accuracy: 0.8590 - val_top_2_acc: 0.9550 - val_top_3_acc: 0.9840 - val_auc: 0.9457 - val_MatthewsCorrelationCoefficient: 0.7234\n",
      "\n",
      "Epoch 00021: ReduceLROnPlateau reducing learning rate to 3.125000148429535e-05.\n",
      "Epoch 22/50\n",
      "1257/1257 [==============================] - 323s 257ms/step - loss: 0.0017 - accuracy: 0.9995 - top_2_acc: 1.0000 - top_3_acc: 1.0000 - auc: 1.0000 - MatthewsCorrelationCoefficient: 0.9994 - val_loss: 1.1482 - val_accuracy: 0.8700 - val_top_2_acc: 0.9530 - val_top_3_acc: 0.9830 - val_auc: 0.9474 - val_MatthewsCorrelationCoefficient: 0.7442\n"
     ]
    },
    {
     "name": "stdout",
     "output_type": "stream",
     "text": [
      "Epoch 23/50\n",
      "1257/1257 [==============================] - 324s 257ms/step - loss: 0.0017 - accuracy: 0.9995 - top_2_acc: 1.0000 - top_3_acc: 1.0000 - auc: 1.0000 - MatthewsCorrelationCoefficient: 0.9994 - val_loss: 1.1507 - val_accuracy: 0.8570 - val_top_2_acc: 0.9550 - val_top_3_acc: 0.9810 - val_auc: 0.9482 - val_MatthewsCorrelationCoefficient: 0.7233\n",
      "Epoch 24/50\n",
      "1257/1257 [==============================] - 324s 258ms/step - loss: 0.0016 - accuracy: 0.9996 - top_2_acc: 1.0000 - top_3_acc: 1.0000 - auc: 1.0000 - MatthewsCorrelationCoefficient: 0.9996 - val_loss: 1.1976 - val_accuracy: 0.8620 - val_top_2_acc: 0.9500 - val_top_3_acc: 0.9840 - val_auc: 0.9461 - val_MatthewsCorrelationCoefficient: 0.7278\n",
      "\n",
      "Epoch 00024: ReduceLROnPlateau reducing learning rate to 1.5625000742147677e-05.\n",
      "Epoch 25/50\n",
      "1257/1257 [==============================] - 324s 258ms/step - loss: 0.0011 - accuracy: 0.9996 - top_2_acc: 1.0000 - top_3_acc: 1.0000 - auc: 1.0000 - MatthewsCorrelationCoefficient: 0.9996 - val_loss: 1.1857 - val_accuracy: 0.8610 - val_top_2_acc: 0.9530 - val_top_3_acc: 0.9840 - val_auc: 0.9466 - val_MatthewsCorrelationCoefficient: 0.7276\n",
      "Epoch 26/50\n",
      "1257/1257 [==============================] - 325s 259ms/step - loss: 0.0011 - accuracy: 0.9996 - top_2_acc: 1.0000 - top_3_acc: 1.0000 - auc: 1.0000 - MatthewsCorrelationCoefficient: 0.9995 - val_loss: 1.1691 - val_accuracy: 0.8590 - val_top_2_acc: 0.9530 - val_top_3_acc: 0.9870 - val_auc: 0.9466 - val_MatthewsCorrelationCoefficient: 0.7236\n",
      "\n",
      "Epoch 00026: ReduceLROnPlateau reducing learning rate to 1e-05.\n",
      "Epoch 27/50\n",
      "1257/1257 [==============================] - 324s 258ms/step - loss: 6.1233e-04 - accuracy: 0.9998 - top_2_acc: 1.0000 - top_3_acc: 1.0000 - auc: 1.0000 - MatthewsCorrelationCoefficient: 0.9997 - val_loss: 1.2144 - val_accuracy: 0.8620 - val_top_2_acc: 0.9520 - val_top_3_acc: 0.9860 - val_auc: 0.9467 - val_MatthewsCorrelationCoefficient: 0.7289\n",
      "Epoch 00027: early stopping\n"
     ]
    }
   ],
   "source": [
    "step_size_train=train_data.n//train_data.batch_size\n",
    "history = model.fit_generator(generator=train_data,\n",
    "                   steps_per_epoch=step_size_train,\n",
    "                   validation_data=val_data,\n",
    "                    epochs=50, \n",
    "                    verbose = 1,\n",
    "                    callbacks=[lrReduction,early_stopping])"
   ]
  },
  {
   "cell_type": "code",
   "execution_count": 20,
   "metadata": {
    "scrolled": false
   },
   "outputs": [
    {
     "name": "stdout",
     "output_type": "stream",
     "text": [
      "1258/1258 [==============================] - 74s 58ms/step - loss: 5.1045e-06 - accuracy: 1.0000 - top_2_acc: 1.0000 - top_3_acc: 1.0000 - auc: 1.0000 - MatthewsCorrelationCoefficient: 1.0000\n"
     ]
    }
   ],
   "source": [
    "loss,accuracy,top_2,top_3,auc,mcc = model.evaluate(train_data)"
   ]
  },
  {
   "cell_type": "code",
   "execution_count": 55,
   "metadata": {},
   "outputs": [
    {
     "name": "stdout",
     "output_type": "stream",
     "text": [
      "32/32 [==============================] - 6s 163ms/step - loss: 1.2144 - accuracy: 0.8620 - top_2_acc: 0.9520 - top_3_acc: 0.9860 - auc: 0.9467 - MatthewsCorrelationCoefficient: 0.7289\n"
     ]
    }
   ],
   "source": [
    "loss,accuracy,top_2,top_3,auc,mcc = model.evaluate(val_data)"
   ]
  },
  {
   "cell_type": "code",
   "execution_count": 21,
   "metadata": {},
   "outputs": [
    {
     "name": "stdout",
     "output_type": "stream",
     "text": [
      "32/32 [==============================] - 4s 134ms/step - loss: 1.2004 - accuracy: 0.8620 - top_2_acc: 0.9553 - top_3_acc: 0.9841 - auc: 0.9479 - MatthewsCorrelationCoefficient: 0.7315\n"
     ]
    }
   ],
   "source": [
    "loss,accuracy,top_2,top_3,auc,mcc = model.evaluate(test_data)"
   ]
  },
  {
   "cell_type": "code",
   "execution_count": 40,
   "metadata": {},
   "outputs": [],
   "source": [
    "# model.save(\"D:\\IIIT-D\\Summer Semester\\CAPSTONE PROJECT\\Saved Models\\Mobile_Net_Test_Acc_86_V2.h5\")"
   ]
  },
  {
   "cell_type": "code",
   "execution_count": 23,
   "metadata": {},
   "outputs": [
    {
     "data": {
      "image/png": "[encoded data removed]",
      "text/plain": [
       "<Figure size 432x288 with 1 Axes>"
      ]
     },
     "metadata": {
      "needs_background": "light"
     },
     "output_type": "display_data"
    }
   ],
   "source": [
    "plt.plot(history.history['accuracy'])\n",
    "plt.plot(history.history['val_accuracy'])\n",
    "plt.title('Model Accuracy')\n",
    "plt.ylabel('Accuracy')\n",
    "plt.xlabel('Epoch')\n",
    "plt.legend(['Train Accuracy', 'Test Accuracy'], loc='upper left')\n",
    "plt.show()"
   ]
  },
  {
   "cell_type": "code",
   "execution_count": 24,
   "metadata": {},
   "outputs": [
    {
     "data": {
      "image/png": "[encoded data removed]",
      "text/plain": [
       "<Figure size 432x288 with 1 Axes>"
      ]
     },
     "metadata": {
      "needs_background": "light"
     },
     "output_type": "display_data"
    }
   ],
   "source": [
    "plt.plot(history.history['loss'])\n",
    "plt.plot(history.history['val_loss'])\n",
    "plt.title('Model Loss')\n",
    "plt.ylabel('Loss')\n",
    "plt.xlabel('Epoch')\n",
    "plt.legend(['Train Loss', 'Test Loss'], loc='upper left')\n",
    "plt.show()"
   ]
  },
  {
   "cell_type": "code",
   "execution_count": 25,
   "metadata": {},
   "outputs": [
    {
     "data": {
      "image/png": "[encoded data removed]",
      "text/plain": [
       "<Figure size 432x288 with 1 Axes>"
      ]
     },
     "metadata": {
      "needs_background": "light"
     },
     "output_type": "display_data"
    }
   ],
   "source": [
    "plt.plot(history.history['auc'])\n",
    "plt.plot(history.history['val_auc'])\n",
    "plt.title('Model AUC Score')\n",
    "plt.ylabel('AUC Score')\n",
    "plt.xlabel('Epoch')\n",
    "plt.legend(['Train AUC', 'Test AUC'], loc='upper left')\n",
    "plt.show()"
   ]
  },
  {
   "cell_type": "code",
   "execution_count": 26,
   "metadata": {},
   "outputs": [],
   "source": [
    "# model.save('D:\\IIIT-D\\Summer Semester\\CAPSTONE PROJECT\\Saved Models\\Mobile_Net_86.h5')"
   ]
  },
  {
   "cell_type": "code",
   "execution_count": 27,
   "metadata": {},
   "outputs": [
    {
     "data": {
      "text/plain": [
       "{'akiec': 0, 'bcc': 1, 'bkl': 2, 'df': 3, 'mel': 4, 'nv': 5, 'vasc': 6}"
      ]
     },
     "execution_count": 27,
     "metadata": {},
     "output_type": "execute_result"
    }
   ],
   "source": [
    "train_data.class_indices"
   ]
  },
  {
   "cell_type": "code",
   "execution_count": 28,
   "metadata": {},
   "outputs": [
    {
     "data": {
      "text/plain": [
       "{'akiec': 0, 'bcc': 1, 'bkl': 2, 'df': 3, 'mel': 4, 'nv': 5, 'vasc': 6}"
      ]
     },
     "execution_count": 28,
     "metadata": {},
     "output_type": "execute_result"
    }
   ],
   "source": [
    "test_data.class_indices"
   ]
  },
  {
   "cell_type": "code",
   "execution_count": 29,
   "metadata": {},
   "outputs": [],
   "source": [
    "from sklearn import metrics"
   ]
  },
  {
   "cell_type": "code",
   "execution_count": 30,
   "metadata": {},
   "outputs": [],
   "source": [
    "true_test_labels=test_data.labels"
   ]
  },
  {
   "cell_type": "code",
   "execution_count": 31,
   "metadata": {},
   "outputs": [],
   "source": [
    "true_test_labels=np.array(true_test_labels)"
   ]
  },
  {
   "cell_type": "code",
   "execution_count": 32,
   "metadata": {},
   "outputs": [
    {
     "data": {
      "text/plain": [
       "(array([0, 1, 2, 3, 4, 5, 6]),\n",
       " array([ 34,  52, 111,  12, 112, 671,  15], dtype=int64))"
      ]
     },
     "execution_count": 32,
     "metadata": {},
     "output_type": "execute_result"
    }
   ],
   "source": [
    "np.unique(true_test_labels,return_counts=True)"
   ]
  },
  {
   "cell_type": "code",
   "execution_count": 33,
   "metadata": {},
   "outputs": [],
   "source": [
    "pred_test_labels=model.predict(test_data)"
   ]
  },
  {
   "cell_type": "code",
   "execution_count": 34,
   "metadata": {},
   "outputs": [],
   "source": [
    "pred_test_labels=np.argmax(pred_test_labels,axis=1)"
   ]
  },
  {
   "cell_type": "code",
   "execution_count": 35,
   "metadata": {},
   "outputs": [
    {
     "data": {
      "text/plain": [
       "0.8619662363455809"
      ]
     },
     "execution_count": 35,
     "metadata": {},
     "output_type": "execute_result"
    }
   ],
   "source": [
    "metrics.accuracy_score(true_test_labels,pred_test_labels)"
   ]
  },
  {
   "cell_type": "code",
   "execution_count": 54,
   "metadata": {},
   "outputs": [
    {
     "name": "stdout",
     "output_type": "stream",
     "text": [
      "              precision    recall  f1-score   support\n",
      "\n",
      "           0       0.79      0.76      0.78        34\n",
      "           1       0.78      0.81      0.79        52\n",
      "           2       0.79      0.76      0.77       111\n",
      "           3       1.00      0.67      0.80        12\n",
      "           4       0.65      0.57      0.61       112\n",
      "           5       0.91      0.94      0.93       671\n",
      "           6       1.00      0.67      0.80        15\n",
      "\n",
      "    accuracy                           0.86      1007\n",
      "   macro avg       0.84      0.74      0.78      1007\n",
      "weighted avg       0.86      0.86      0.86      1007\n",
      "\n"
     ]
    }
   ],
   "source": [
    "report = metrics.classification_report(true_test_labels,pred_test_labels)\n",
    "print(report)"
   ]
  },
  {
   "cell_type": "code",
   "execution_count": 37,
   "metadata": {},
   "outputs": [],
   "source": [
    "cf=metrics.confusion_matrix(true_test_labels,pred_test_labels)"
   ]
  },
  {
   "cell_type": "code",
   "execution_count": 38,
   "metadata": {},
   "outputs": [],
   "source": [
    "def plot_confusion_matrix(cm, classes,\n",
    "                          normalize=False,\n",
    "                          title='Confusion matrix',\n",
    "                          cmap=plt.cm.Blues):\n",
    "    \"\"\"\n",
    "    This function prints and plots the confusion matrix.\n",
    "    Normalization can be applied by setting `normalize=True`.\n",
    "    \"\"\"\n",
    "    if normalize:\n",
    "        cm = cm.astype('float') / cm.sum(axis=1)[:, np.newaxis]\n",
    "        print(\"Normalized confusion matrix\")\n",
    "    else:\n",
    "        print('Confusion matrix, without normalization')\n",
    "\n",
    "    print(cm)\n",
    "\n",
    "    plt.imshow(cm, interpolation='nearest', cmap=cmap)\n",
    "    plt.title(title)\n",
    "    plt.colorbar()\n",
    "    tick_marks = np.arange(len(classes))\n",
    "    plt.xticks(tick_marks, classes, rotation=45)\n",
    "    plt.yticks(tick_marks, classes)\n",
    "\n",
    "    fmt = '.2f' if normalize else 'd'\n",
    "    thresh = cm.max() / 2.\n",
    "    for i, j in itertools.product(range(cm.shape[0]), range(cm.shape[1])):\n",
    "        plt.text(j, i, format(cm[i, j], fmt),\n",
    "                 horizontalalignment=\"center\",\n",
    "                 color=\"white\" if cm[i, j] > thresh else \"black\")\n",
    "\n",
    "    plt.ylabel('True label')\n",
    "    plt.xlabel('Predicted label')\n",
    "    plt.tight_layout()"
   ]
  },
  {
   "cell_type": "code",
   "execution_count": 39,
   "metadata": {},
   "outputs": [
    {
     "name": "stdout",
     "output_type": "stream",
     "text": [
      "Confusion matrix, without normalization\n",
      "[[ 26   3   3   0   2   0   0]\n",
      " [  1  42   3   0   2   4   0]\n",
      " [  3   1  84   0   8  15   0]\n",
      " [  1   0   0   8   0   3   0]\n",
      " [  2   1   7   0  64  38   0]\n",
      " [  0   7   9   0  21 634   0]\n",
      " [  0   0   1   0   1   3  10]]\n"
     ]
    },
    {
     "data": {
      "image/png": "[encoded data removed]",
      "text/plain": [
       "<Figure size 432x288 with 2 Axes>"
      ]
     },
     "metadata": {
      "needs_background": "light"
     },
     "output_type": "display_data"
    }
   ],
   "source": [
    "import itertools\n",
    "cm_plot_labels = ['akiec', 'bcc', 'bkl', 'df', 'mel','nv', 'vasc']\n",
    "\n",
    "plot_confusion_matrix(cf, cm_plot_labels, title='Confusion Matrix')"
   ]
  },
  {
   "cell_type": "code",
   "execution_count": 41,
   "metadata": {},
   "outputs": [],
   "source": [
    "FP = cf.sum(axis=0) - np.diag(cf) \n",
    "FN = cf.sum(axis=1) - np.diag(cf)\n",
    "TP = np.diag(cf)\n",
    "TN = cf.sum() - (FP + FN + TP)\n",
    "FP = FP.astype(float)\n",
    "FN = FN.astype(float)\n",
    "TP = TP.astype(float)\n",
    "TN = TN.astype(float)\n",
    "# Sensitivity, hit rate, recall, or true positive rate\n",
    "TPR = TP/(TP+FN)\n",
    "# Specificity or true negative rate\n",
    "TNR = TN/(TN+FP) \n",
    "# Precision or positive predictive value\n",
    "PPV = TP/(TP+FP)\n",
    "# Negative predictive value\n",
    "NPV = TN/(TN+FN)\n",
    "# Fall out or false positive rate\n",
    "FPR = FP/(FP+TN)\n",
    "# False negative rate\n",
    "FNR = FN/(TP+FN)\n",
    "# False discovery rate\n",
    "FDR = FP/(TP+FP)\n",
    "# Overall accuracy for each class\n",
    "ACC = (TP+TN)/(TP+FP+FN+TN)"
   ]
  },
  {
   "cell_type": "code",
   "execution_count": 50,
   "metadata": {},
   "outputs": [
    {
     "name": "stdout",
     "output_type": "stream",
     "text": [
      "0.7398250388331667\n"
     ]
    }
   ],
   "source": [
    "print(np.sum(TPR)/len(TPR))"
   ]
  }
 ],
 "metadata": {
  "accelerator": "GPU",
  "colab": {
   "name": "SKIN_DISEASE_PREDICTION_Anshuman.ipynb",
   "provenance": []
  },
  "kernelspec": {
   "display_name": "Python 3",
   "language": "python",
   "name": "python3"
  },
  "language_info": {
   "codemirror_mode": {
    "name": "ipython",
    "version": 3
   },
   "file_extension": ".py",
   "mimetype": "text/x-python",
   "name": "python",
   "nbconvert_exporter": "python",
   "pygments_lexer": "ipython3",
   "version": "3.9.5"
  }
 },
 "nbformat": 4,
 "nbformat_minor": 1
}
