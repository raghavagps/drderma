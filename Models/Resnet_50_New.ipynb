{
 "cells": [
  {
   "cell_type": "code",
   "execution_count": 1,
   "id": "a5d0dae3",
   "metadata": {},
   "outputs": [],
   "source": [
    "import pandas as pd\n",
    "import numpy as np\n",
    "import os\n",
    "from tqdm import tqdm\n",
    "import math\n",
    "import tensorflow as tf\n",
    "from tensorflow.keras.preprocessing.image import ImageDataGenerator\n",
    "from PIL import Image\n",
    "from sklearn.preprocessing import LabelEncoder\n",
    "import PIL\n",
    "import matplotlib.pyplot as plt\n",
    "import glob\n",
    "import warnings\n",
    "warnings.filterwarnings('ignore')\n",
    "import tensorflow_addons as tfa\n",
    "from tensorflow.keras.metrics import top_k_categorical_accuracy, categorical_accuracy"
   ]
  },
  {
   "cell_type": "code",
   "execution_count": 2,
   "id": "b03028d0",
   "metadata": {},
   "outputs": [],
   "source": [
    "root = \"D:\\IIIT-D\\Summer Semester\\CAPSTONE PROJECT\\Complete Dataset\""
   ]
  },
  {
   "cell_type": "code",
   "execution_count": 4,
   "id": "69ff1fa9",
   "metadata": {},
   "outputs": [
    {
     "name": "stdout",
     "output_type": "stream",
     "text": [
      "Found 40253 images belonging to 7 classes.\n",
      "Found 1000 images belonging to 7 classes.\n",
      "Found 1006 images belonging to 7 classes.\n"
     ]
    }
   ],
   "source": [
    "train_dir = root+'/Hair Removed Images/train'\n",
    "val_dir = root+'/Hair Removed Images/val'\n",
    "test_dir = root+'/Hair Removed Images/test'\n",
    "datagen = ImageDataGenerator(preprocessing_function = tf.keras.applications.mobilenet.preprocess_input)\n",
    "\n",
    "# test_datagen = ImageDataGenerator(rescale=1./255)\n",
    "\n",
    "train_data = datagen.flow_from_directory(train_dir,target_size=(224,224),batch_size=8,class_mode='categorical',seed=42)\n",
    "\n",
    "val_data = datagen.flow_from_directory(val_dir,target_size=(224,224),batch_size=8,class_mode='categorical',seed=42)\n",
    "\n",
    "test_data = datagen.flow_from_directory(test_dir,target_size=(224,224),batch_size=8,class_mode='categorical',shuffle=False)"
   ]
  },
  {
   "cell_type": "code",
   "execution_count": 5,
   "id": "99a9ca09",
   "metadata": {},
   "outputs": [],
   "source": [
    "from tensorflow.keras.applications import ResNet50\n",
    "from tensorflow.keras.layers import Dense,GlobalAveragePooling2D, Dropout\n",
    "from tensorflow.keras.models import Model\n",
    "\n",
    "num_labels = 7\n",
    "\n",
    "base_model = ResNet50(include_top=False, input_shape=(128, 128, 3),pooling = 'avg', weights = 'imagenet')\n",
    "model = tf.keras.models.Sequential()\n",
    "model.add(base_model)\n",
    "model.add(Dropout(0.5))\n",
    "model.add(Dense(128, activation=\"relu\"))\n",
    "model.add(Dropout(0.5))\n",
    "model.add(Dense(num_labels, activation = 'softmax',))\n"
   ]
  },
  {
   "cell_type": "code",
   "execution_count": 6,
   "id": "002b1a93",
   "metadata": {},
   "outputs": [],
   "source": [
    "def top_2_acc(y_true, y_pred):\n",
    "    return top_k_categorical_accuracy(y_true, y_pred, k=2)\n",
    "\n",
    "def top_3_acc(y_true, y_pred):\n",
    "    return top_k_categorical_accuracy(y_true, y_pred, k=3)\n",
    "\n",
    "from tensorflow.keras.callbacks import ReduceLROnPlateau, EarlyStopping\n",
    "\n",
    "lrReduction=ReduceLROnPlateau(monitor='val_accuracy',\n",
    "                              factor=0.5,\n",
    "                              patience=2,\n",
    "                              verbose=1,\n",
    "                              mode='auto',\n",
    "                              min_lr=0.00001)\n",
    "\n",
    "early_stopping = EarlyStopping(monitor=\"val_accuracy\", patience=5, verbose=1)"
   ]
  },
  {
   "cell_type": "code",
   "execution_count": 7,
   "id": "55515d6b",
   "metadata": {},
   "outputs": [
    {
     "name": "stdout",
     "output_type": "stream",
     "text": [
      "Model: \"sequential\"\n",
      "_________________________________________________________________\n",
      "Layer (type)                 Output Shape              Param #   \n",
      "=================================================================\n",
      "resnet50 (Functional)        (None, 2048)              23587712  \n",
      "_________________________________________________________________\n",
      "dropout (Dropout)            (None, 2048)              0         \n",
      "_________________________________________________________________\n",
      "dense (Dense)                (None, 128)               262272    \n",
      "_________________________________________________________________\n",
      "dropout_1 (Dropout)          (None, 128)               0         \n",
      "_________________________________________________________________\n",
      "dense_1 (Dense)              (None, 7)                 903       \n",
      "=================================================================\n",
      "Total params: 23,850,887\n",
      "Trainable params: 23,797,767\n",
      "Non-trainable params: 53,120\n",
      "_________________________________________________________________\n"
     ]
    }
   ],
   "source": [
    "from tensorflow.keras.optimizers import Adam\n",
    "model.compile(optimizer='Adam',loss='categorical_crossentropy',metrics=['accuracy',\n",
    "                                                                        top_2_acc,\n",
    "                                                                        top_3_acc,\n",
    "                                                                        tf.metrics.AUC(curve='ROC'),\n",
    "                                                                        tfa.metrics.MatthewsCorrelationCoefficient(num_classes=7)])\n",
    "\n",
    "model.summary()"
   ]
  },
  {
   "cell_type": "code",
   "execution_count": 8,
   "id": "eecb3173",
   "metadata": {},
   "outputs": [
    {
     "name": "stdout",
     "output_type": "stream",
     "text": [
      "Epoch 1/50\n",
      "5031/5031 [==============================] - 850s 167ms/step - loss: 1.6395 - accuracy: 0.3566 - top_2_acc: 0.5440 - top_3_acc: 0.6937 - auc: 0.7462 - MatthewsCorrelationCoefficient: 0.2516 - val_loss: 1.7322 - val_accuracy: 0.2420 - val_top_2_acc: 0.4060 - val_top_3_acc: 0.5410 - val_auc: 0.7006 - val_MatthewsCorrelationCoefficient: 0.0899\n",
      "Epoch 2/50\n",
      "5031/5031 [==============================] - 821s 163ms/step - loss: 1.3594 - accuracy: 0.4804 - top_2_acc: 0.6722 - top_3_acc: 0.8058 - auc: 0.8383 - MatthewsCorrelationCoefficient: 0.3986 - val_loss: 4.6108 - val_accuracy: 0.1690 - val_top_2_acc: 0.4190 - val_top_3_acc: 0.5290 - val_auc: 0.5533 - val_MatthewsCorrelationCoefficient: 0.0911\n",
      "Epoch 3/50\n",
      "5031/5031 [==============================] - 853s 169ms/step - loss: 1.3005 - accuracy: 0.4966 - top_2_acc: 0.6883 - top_3_acc: 0.8189 - auc: 0.8517 - MatthewsCorrelationCoefficient: 0.4172 - val_loss: 1.3164 - val_accuracy: 0.5510 - val_top_2_acc: 0.6890 - val_top_3_acc: 0.7950 - val_auc: 0.8633 - val_MatthewsCorrelationCoefficient: 0.3329\n",
      "Epoch 4/50\n",
      "5031/5031 [==============================] - 821s 163ms/step - loss: 1.1562 - accuracy: 0.5552 - top_2_acc: 0.7432 - top_3_acc: 0.8641 - auc: 0.8859 - MatthewsCorrelationCoefficient: 0.4829 - val_loss: 0.7679 - val_accuracy: 0.7000 - val_top_2_acc: 0.8610 - val_top_3_acc: 0.9440 - val_auc: 0.9506 - val_MatthewsCorrelationCoefficient: 0.4141\n",
      "Epoch 5/50\n",
      "5031/5031 [==============================] - 820s 163ms/step - loss: 0.9731 - accuracy: 0.6296 - top_2_acc: 0.8151 - top_3_acc: 0.9177 - auc: 0.9204 - MatthewsCorrelationCoefficient: 0.5686 - val_loss: 0.8298 - val_accuracy: 0.7020 - val_top_2_acc: 0.8600 - val_top_3_acc: 0.9450 - val_auc: 0.9462 - val_MatthewsCorrelationCoefficient: 0.4160\n",
      "Epoch 6/50\n",
      "5031/5031 [==============================] - 820s 163ms/step - loss: 0.8643 - accuracy: 0.6707 - top_2_acc: 0.8493 - top_3_acc: 0.9379 - auc: 0.9374 - MatthewsCorrelationCoefficient: 0.6164 - val_loss: 0.9302 - val_accuracy: 0.6450 - val_top_2_acc: 0.8290 - val_top_3_acc: 0.9370 - val_auc: 0.9308 - val_MatthewsCorrelationCoefficient: 0.4193\n",
      "Epoch 7/50\n",
      "5031/5031 [==============================] - 820s 163ms/step - loss: 0.7896 - accuracy: 0.7014 - top_2_acc: 0.8687 - top_3_acc: 0.9498 - auc: 0.9475 - MatthewsCorrelationCoefficient: 0.6523 - val_loss: 0.7345 - val_accuracy: 0.7430 - val_top_2_acc: 0.8830 - val_top_3_acc: 0.9460 - val_auc: 0.9556 - val_MatthewsCorrelationCoefficient: 0.4979\n",
      "Epoch 8/50\n",
      "5031/5031 [==============================] - 821s 163ms/step - loss: 0.7267 - accuracy: 0.7226 - top_2_acc: 0.8858 - top_3_acc: 0.9578 - auc: 0.9552 - MatthewsCorrelationCoefficient: 0.6769 - val_loss: 0.9303 - val_accuracy: 0.7280 - val_top_2_acc: 0.8680 - val_top_3_acc: 0.9460 - val_auc: 0.9466 - val_MatthewsCorrelationCoefficient: 0.4959\n",
      "Epoch 9/50\n",
      "5031/5031 [==============================] - 820s 163ms/step - loss: 0.6752 - accuracy: 0.7439 - top_2_acc: 0.8968 - top_3_acc: 0.9641 - auc: 0.9611 - MatthewsCorrelationCoefficient: 0.7018 - val_loss: 0.8960 - val_accuracy: 0.7410 - val_top_2_acc: 0.8920 - val_top_3_acc: 0.9610 - val_auc: 0.9526 - val_MatthewsCorrelationCoefficient: 0.4683\n",
      "\n",
      "Epoch 00009: ReduceLROnPlateau reducing learning rate to 0.0005000000237487257.\n",
      "Epoch 10/50\n",
      "5031/5031 [==============================] - 832s 165ms/step - loss: 0.5552 - accuracy: 0.7856 - top_2_acc: 0.9252 - top_3_acc: 0.9784 - auc: 0.9732 - MatthewsCorrelationCoefficient: 0.7503 - val_loss: 0.7525 - val_accuracy: 0.7280 - val_top_2_acc: 0.8810 - val_top_3_acc: 0.9670 - val_auc: 0.9586 - val_MatthewsCorrelationCoefficient: 0.4866\n",
      "Epoch 11/50\n",
      "5031/5031 [==============================] - 821s 163ms/step - loss: 0.4964 - accuracy: 0.8104 - top_2_acc: 0.9354 - top_3_acc: 0.9833 - auc: 0.9783 - MatthewsCorrelationCoefficient: 0.7790 - val_loss: 0.8077 - val_accuracy: 0.7280 - val_top_2_acc: 0.8760 - val_top_3_acc: 0.9570 - val_auc: 0.9520 - val_MatthewsCorrelationCoefficient: 0.5015\n",
      "\n",
      "Epoch 00011: ReduceLROnPlateau reducing learning rate to 0.0002500000118743628.\n",
      "Epoch 12/50\n",
      "5031/5031 [==============================] - 821s 163ms/step - loss: 0.4117 - accuracy: 0.8408 - top_2_acc: 0.9527 - top_3_acc: 0.9890 - auc: 0.9848 - MatthewsCorrelationCoefficient: 0.8145 - val_loss: 0.6734 - val_accuracy: 0.7690 - val_top_2_acc: 0.8950 - val_top_3_acc: 0.9730 - val_auc: 0.9637 - val_MatthewsCorrelationCoefficient: 0.5437\n",
      "Epoch 13/50\n",
      "5031/5031 [==============================] - 820s 163ms/step - loss: 0.3710 - accuracy: 0.8544 - top_2_acc: 0.9595 - top_3_acc: 0.9919 - auc: 0.9875 - MatthewsCorrelationCoefficient: 0.8303 - val_loss: 0.8892 - val_accuracy: 0.7730 - val_top_2_acc: 0.9090 - val_top_3_acc: 0.9710 - val_auc: 0.9628 - val_MatthewsCorrelationCoefficient: 0.5467\n",
      "Epoch 14/50\n",
      "5031/5031 [==============================] - 821s 163ms/step - loss: 0.3337 - accuracy: 0.8705 - top_2_acc: 0.9660 - top_3_acc: 0.9935 - auc: 0.9897 - MatthewsCorrelationCoefficient: 0.8490 - val_loss: 2.6455 - val_accuracy: 0.7820 - val_top_2_acc: 0.9100 - val_top_3_acc: 0.9680 - val_auc: 0.9552 - val_MatthewsCorrelationCoefficient: 0.5597\n",
      "Epoch 15/50\n",
      "5031/5031 [==============================] - 820s 163ms/step - loss: 0.3042 - accuracy: 0.8833 - top_2_acc: 0.9707 - top_3_acc: 0.9948 - auc: 0.9913 - MatthewsCorrelationCoefficient: 0.8639 - val_loss: 0.9436 - val_accuracy: 0.7760 - val_top_2_acc: 0.9060 - val_top_3_acc: 0.9720 - val_auc: 0.9613 - val_MatthewsCorrelationCoefficient: 0.5731\n",
      "Epoch 16/50\n",
      "5031/5031 [==============================] - 820s 163ms/step - loss: 0.2745 - accuracy: 0.8947 - top_2_acc: 0.9766 - top_3_acc: 0.9963 - auc: 0.9927 - MatthewsCorrelationCoefficient: 0.8771 - val_loss: 4.4974 - val_accuracy: 0.7890 - val_top_2_acc: 0.9100 - val_top_3_acc: 0.9740 - val_auc: 0.9523 - val_MatthewsCorrelationCoefficient: 0.5693\n",
      "Epoch 17/50\n",
      "5031/5031 [==============================] - 820s 163ms/step - loss: 0.2478 - accuracy: 0.9059 - top_2_acc: 0.9799 - top_3_acc: 0.9966 - auc: 0.9939 - MatthewsCorrelationCoefficient: 0.8902 - val_loss: 0.9103 - val_accuracy: 0.7820 - val_top_2_acc: 0.9210 - val_top_3_acc: 0.9740 - val_auc: 0.9586 - val_MatthewsCorrelationCoefficient: 0.5813\n",
      "Epoch 18/50\n",
      "5031/5031 [==============================] - 820s 163ms/step - loss: 0.2215 - accuracy: 0.9165 - top_2_acc: 0.9838 - top_3_acc: 0.9972 - auc: 0.9950 - MatthewsCorrelationCoefficient: 0.9026 - val_loss: 1.2599 - val_accuracy: 0.7750 - val_top_2_acc: 0.9030 - val_top_3_acc: 0.9730 - val_auc: 0.9499 - val_MatthewsCorrelationCoefficient: 0.5479\n",
      "\n",
      "Epoch 00018: ReduceLROnPlateau reducing learning rate to 0.0001250000059371814.\n",
      "Epoch 19/50\n",
      "5031/5031 [==============================] - 821s 163ms/step - loss: 0.1708 - accuracy: 0.9354 - top_2_acc: 0.9891 - top_3_acc: 0.9986 - auc: 0.9967 - MatthewsCorrelationCoefficient: 0.9246 - val_loss: 2.0741 - val_accuracy: 0.7830 - val_top_2_acc: 0.9140 - val_top_3_acc: 0.9770 - val_auc: 0.9506 - val_MatthewsCorrelationCoefficient: 0.5681\n",
      "Epoch 20/50\n",
      "5031/5031 [==============================] - 820s 163ms/step - loss: 0.1493 - accuracy: 0.9442 - top_2_acc: 0.9917 - top_3_acc: 0.9990 - auc: 0.9976 - MatthewsCorrelationCoefficient: 0.9349 - val_loss: 2.0077 - val_accuracy: 0.7780 - val_top_2_acc: 0.9120 - val_top_3_acc: 0.9750 - val_auc: 0.9466 - val_MatthewsCorrelationCoefficient: 0.5548\n",
      "\n",
      "Epoch 00020: ReduceLROnPlateau reducing learning rate to 6.25000029685907e-05.\n",
      "Epoch 21/50\n",
      "5031/5031 [==============================] - 820s 163ms/step - loss: 0.1225 - accuracy: 0.9547 - top_2_acc: 0.9932 - top_3_acc: 0.9993 - auc: 0.9983 - MatthewsCorrelationCoefficient: 0.9471 - val_loss: 1.0556 - val_accuracy: 0.7710 - val_top_2_acc: 0.9130 - val_top_3_acc: 0.9790 - val_auc: 0.9471 - val_MatthewsCorrelationCoefficient: 0.5434\n",
      "Epoch 00021: early stopping\n"
     ]
    }
   ],
   "source": [
    "step_size_train=train_data.n//train_data.batch_size\n",
    "history = model.fit_generator(generator=train_data,\n",
    "                   steps_per_epoch=step_size_train,\n",
    "                   validation_data=val_data,\n",
    "                    epochs=50, \n",
    "                    verbose = 1,\n",
    "                    callbacks=[lrReduction,early_stopping])"
   ]
  },
  {
   "cell_type": "code",
   "execution_count": 9,
   "id": "efcfdc59",
   "metadata": {},
   "outputs": [
    {
     "name": "stdout",
     "output_type": "stream",
     "text": [
      "5032/5032 [==============================] - 263s 52ms/step - loss: 0.4795 - accuracy: 0.9833 - top_2_acc: 0.9973 - top_3_acc: 0.9998 - auc: 0.9986 - MatthewsCorrelationCoefficient: 0.9805\n"
     ]
    }
   ],
   "source": [
    "loss,accuracy,top_2,top_3,auc,mcc = model.evaluate(train_data)"
   ]
  },
  {
   "cell_type": "code",
   "execution_count": 10,
   "id": "834dcb7c",
   "metadata": {},
   "outputs": [
    {
     "name": "stdout",
     "output_type": "stream",
     "text": [
      "125/125 [==============================] - 7s 52ms/step - loss: 1.0556 - accuracy: 0.7710 - top_2_acc: 0.9130 - top_3_acc: 0.9790 - auc: 0.9471 - MatthewsCorrelationCoefficient: 0.5434\n"
     ]
    }
   ],
   "source": [
    "loss,accuracy,top_2,top_3,auc,mcc = model.evaluate(val_data)"
   ]
  },
  {
   "cell_type": "code",
   "execution_count": 11,
   "id": "c14024ec",
   "metadata": {},
   "outputs": [
    {
     "name": "stdout",
     "output_type": "stream",
     "text": [
      "126/126 [==============================] - 12s 98ms/step - loss: 1.0636 - accuracy: 0.7535 - top_2_acc: 0.9105 - top_3_acc: 0.9702 - auc: 0.9435 - MatthewsCorrelationCoefficient: 0.5234\n"
     ]
    }
   ],
   "source": [
    "loss,accuracy,top_2,top_3,auc,mcc = model.evaluate(test_data)"
   ]
  },
  {
   "cell_type": "code",
   "execution_count": 12,
   "id": "5c45b240",
   "metadata": {},
   "outputs": [
    {
     "name": "stdout",
     "output_type": "stream",
     "text": [
      "              precision    recall  f1-score   support\n",
      "\n",
      "           0       0.47      0.44      0.45        34\n",
      "           1       0.52      0.62      0.57        52\n",
      "           2       0.47      0.45      0.46       111\n",
      "           3       0.67      0.50      0.57        12\n",
      "           4       0.54      0.43      0.48       112\n",
      "           5       0.86      0.89      0.87       670\n",
      "           6       0.72      0.87      0.79        15\n",
      "\n",
      "    accuracy                           0.75      1006\n",
      "   macro avg       0.61      0.60      0.60      1006\n",
      "weighted avg       0.75      0.75      0.75      1006\n",
      "\n"
     ]
    }
   ],
   "source": [
    "from sklearn import metrics\n",
    "\n",
    "true_test_labels=test_data.labels\n",
    "\n",
    "true_test_labels=np.array(true_test_labels)\n",
    "\n",
    "np.unique(true_test_labels,return_counts=True)\n",
    "\n",
    "pred_test_labels=model.predict(test_data)\n",
    "\n",
    "pred_test_labels=np.argmax(pred_test_labels,axis=1)\n",
    "\n",
    "metrics.accuracy_score(true_test_labels,pred_test_labels)\n",
    "\n",
    "report = metrics.classification_report(true_test_labels,pred_test_labels)\n",
    "print(report)"
   ]
  },
  {
   "cell_type": "code",
   "execution_count": 13,
   "id": "17fcc242",
   "metadata": {},
   "outputs": [],
   "source": [
    "# model.save(\"D:\\IIIT-D\\Summer Semester\\CAPSTONE PROJECT\\Saved Models\\Resnet_50.h5\")"
   ]
  }
 ],
 "metadata": {
  "kernelspec": {
   "display_name": "myenv",
   "language": "python",
   "name": "myenv"
  },
  "language_info": {
   "codemirror_mode": {
    "name": "ipython",
    "version": 3
   },
   "file_extension": ".py",
   "mimetype": "text/x-python",
   "name": "python",
   "nbconvert_exporter": "python",
   "pygments_lexer": "ipython3",
   "version": "3.9.5"
  }
 },
 "nbformat": 4,
 "nbformat_minor": 5
}
