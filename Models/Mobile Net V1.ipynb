{
 "cells": [
  {
   "cell_type": "markdown",
   "metadata": {
    "id": "U7j5B2r_ZBxT"
   },
   "source": [
    "# Import Statements"
   ]
  },
  {
   "cell_type": "code",
   "execution_count": 1,
   "metadata": {
    "id": "EsteEwFALyTR"
   },
   "outputs": [],
   "source": [
    "import pandas as pd\n",
    "import numpy as np\n",
    "import os\n",
    "from tqdm import tqdm\n",
    "import math\n",
    "import tensorflow as tf\n",
    "from tensorflow.keras.preprocessing.image import ImageDataGenerator\n",
    "from PIL import Image\n",
    "from sklearn.preprocessing import LabelEncoder\n",
    "import PIL\n",
    "import matplotlib.pyplot as plt\n",
    "import glob\n",
    "import warnings\n",
    "warnings.filterwarnings('ignore')\n",
    "import tensorflow_addons as tfa\n",
    "from tensorflow.keras.metrics import top_k_categorical_accuracy, categorical_accuracy"
   ]
  },
  {
   "cell_type": "code",
   "execution_count": 2,
   "metadata": {},
   "outputs": [],
   "source": [
    "root = \"D:\\IIIT-D\\Summer Semester\\CAPSTONE PROJECT\\Complete Dataset\""
   ]
  },
  {
   "cell_type": "code",
   "execution_count": 3,
   "metadata": {},
   "outputs": [],
   "source": [
    "train_dir = root+'/Hair Removed Images/train'\n",
    "val_dir = root+'/Hair Removed Images/val'\n",
    "test_dir = root+'/Hair Removed Images/test'"
   ]
  },
  {
   "cell_type": "markdown",
   "metadata": {
    "id": "lekprLVHax54"
   },
   "source": [
    "# Build A Model"
   ]
  },
  {
   "cell_type": "markdown",
   "metadata": {
    "id": "7-r946OCa3_d"
   },
   "source": [
    "## Preprocessing"
   ]
  },
  {
   "cell_type": "code",
   "execution_count": 4,
   "metadata": {
    "id": "JE815ffda66Q"
   },
   "outputs": [],
   "source": [
    "train_datagen = ImageDataGenerator(rescale= 1./255,\n",
    "                                   featurewise_center=False,  # set input mean to 0 over the dataset\n",
    "                                   samplewise_center=False,  # set each sample mean to 0\n",
    "                                   featurewise_std_normalization=False,  # divide inputs by std of the dataset\n",
    "                                   samplewise_std_normalization=False,  # divide each input by its std\n",
    "                                   zca_whitening=False,  # apply ZCA whitening\n",
    "                                   rotation_range=90,  # randomly rotate images in the range (degrees, 0 to 180)\n",
    "                                   zoom_range = 0.1, # Randomly zoom image \n",
    "                                   width_shift_range=0.1,  # randomly shift images horizontally (fraction of total width)\n",
    "                                   height_shift_range=0.1,  # randomly shift images vertically (fraction of total height)\n",
    "                                   horizontal_flip=True,  # randomly flip images\n",
    "                                   vertical_flip=True,  # randomly flip images\n",
    "                                   shear_range = 10)"
   ]
  },
  {
   "cell_type": "code",
   "execution_count": 5,
   "metadata": {
    "id": "BF8JO6mGbYzP"
   },
   "outputs": [],
   "source": [
    "test_datagen = ImageDataGenerator(rescale=1./255)"
   ]
  },
  {
   "cell_type": "code",
   "execution_count": 6,
   "metadata": {
    "colab": {
     "base_uri": "https://localhost:8080/"
    },
    "id": "Ju6n_3m9bgUn",
    "outputId": "251c71b5-d585-413e-f5fd-6d9fd73c073a"
   },
   "outputs": [
    {
     "name": "stdout",
     "output_type": "stream",
     "text": [
      "Found 40253 images belonging to 7 classes.\n"
     ]
    }
   ],
   "source": [
    "train_data = train_datagen.flow_from_directory(train_dir,target_size=(224,224),batch_size=32,class_mode='categorical')"
   ]
  },
  {
   "cell_type": "code",
   "execution_count": 7,
   "metadata": {
    "colab": {
     "base_uri": "https://localhost:8080/"
    },
    "id": "O0IIuLhpb1f9",
    "outputId": "efb63246-df40-4d4b-abc6-0e1694ffd4a4"
   },
   "outputs": [
    {
     "name": "stdout",
     "output_type": "stream",
     "text": [
      "Found 1000 images belonging to 7 classes.\n"
     ]
    }
   ],
   "source": [
    "val_data = test_datagen.flow_from_directory(val_dir,target_size=(224,224),batch_size=32,class_mode='categorical')"
   ]
  },
  {
   "cell_type": "code",
   "execution_count": 8,
   "metadata": {},
   "outputs": [
    {
     "name": "stdout",
     "output_type": "stream",
     "text": [
      "Found 1007 images belonging to 7 classes.\n"
     ]
    }
   ],
   "source": [
    "test_data = test_datagen.flow_from_directory(test_dir,target_size=(224,224),batch_size=32,class_mode='categorical')"
   ]
  },
  {
   "cell_type": "markdown",
   "metadata": {
    "id": "7eKAdFwLeUw_"
   },
   "source": [
    "# Building The CNN"
   ]
  },
  {
   "cell_type": "code",
   "execution_count": 9,
   "metadata": {
    "colab": {
     "base_uri": "https://localhost:8080/"
    },
    "id": "dDfjOPsEsywm",
    "outputId": "e436218d-d798-4060-8022-0b7833aaba9e"
   },
   "outputs": [
    {
     "name": "stdout",
     "output_type": "stream",
     "text": [
      "WARNING:tensorflow:`input_shape` is undefined or non-square, or `rows` is not in [128, 160, 192, 224]. Weights for input shape (224, 224) will be loaded as the default.\n"
     ]
    }
   ],
   "source": [
    "from tensorflow.keras.applications import MobileNet\n",
    "from tensorflow.keras.layers import Dense,GlobalAveragePooling2D\n",
    "from tensorflow.keras.models import Model\n",
    "\n",
    "base_model=MobileNet(weights='imagenet',include_top=False) #imports the mobilenet model and discards the last 1000 neuron layer.\n",
    "\n",
    "x=base_model.output\n",
    "x=GlobalAveragePooling2D()(x)\n",
    "x=Dense(1024,activation='relu')(x) #we add dense layers so that the model can learn more complex functions and classify for better results.\n",
    "x=Dense(1024,activation='relu')(x) #dense layer 2\n",
    "x=Dense(512,activation='relu')(x) #dense layer 3\n",
    "preds=Dense(7,activation='softmax')(x) #final layer with softmax activation"
   ]
  },
  {
   "cell_type": "code",
   "execution_count": 10,
   "metadata": {},
   "outputs": [],
   "source": [
    "model=Model(inputs=base_model.input,outputs=preds)\n",
    "#specify the inputs\n",
    "#specify the outputs\n",
    "#now a model has been created based on our architecture"
   ]
  },
  {
   "cell_type": "code",
   "execution_count": 11,
   "metadata": {},
   "outputs": [],
   "source": [
    "for layer in model.layers:\n",
    "    layer.trainable=False\n",
    "# or if we want to set the first 20 layers of the network to be non-trainable\n",
    "for layer in model.layers[:20]:\n",
    "    layer.trainable=False\n",
    "for layer in model.layers[20:]:\n",
    "    layer.trainable=True"
   ]
  },
  {
   "cell_type": "code",
   "execution_count": 12,
   "metadata": {},
   "outputs": [],
   "source": [
    "def top_1_acc(y_true, y_pred):\n",
    "    return top_k_categorical_accuracy(y_true, y_pred, k=1)"
   ]
  },
  {
   "cell_type": "code",
   "execution_count": 13,
   "metadata": {},
   "outputs": [],
   "source": [
    "def top_2_acc(y_true, y_pred):\n",
    "    return top_k_categorical_accuracy(y_true, y_pred, k=2)"
   ]
  },
  {
   "cell_type": "code",
   "execution_count": 14,
   "metadata": {},
   "outputs": [],
   "source": [
    "def top_3_acc(y_true, y_pred):\n",
    "    return top_k_categorical_accuracy(y_true, y_pred, k=3)"
   ]
  },
  {
   "cell_type": "code",
   "execution_count": 15,
   "metadata": {},
   "outputs": [],
   "source": [
    "from tensorflow.keras.optimizers import Adam\n",
    "model.compile(optimizer='Adam',loss='categorical_crossentropy',metrics=['accuracy',\n",
    "                                                                        top_1_acc,\n",
    "                                                                        top_2_acc,\n",
    "                                                                        top_3_acc,\n",
    "                                                                        tf.metrics.AUC(curve='ROC'),\n",
    "                                                                        tfa.metrics.MatthewsCorrelationCoefficient(num_classes=7)])"
   ]
  },
  {
   "cell_type": "code",
   "execution_count": 16,
   "metadata": {},
   "outputs": [],
   "source": [
    "from tensorflow.keras.callbacks import ReduceLROnPlateau, EarlyStopping"
   ]
  },
  {
   "cell_type": "code",
   "execution_count": 17,
   "metadata": {},
   "outputs": [],
   "source": [
    "lrReduction=ReduceLROnPlateau(monitor='val_loss', \n",
    "                              factor=0.5, \n",
    "                              patience=2, \n",
    "                              verbose=1, \n",
    "                              mode='min', \n",
    "                              min_lr=0.00001)"
   ]
  },
  {
   "cell_type": "code",
   "execution_count": 18,
   "metadata": {},
   "outputs": [],
   "source": [
    "early_stopping = EarlyStopping(monitor=\"val_loss\", patience=5, verbose=1)"
   ]
  },
  {
   "cell_type": "code",
   "execution_count": 19,
   "metadata": {},
   "outputs": [
    {
     "name": "stdout",
     "output_type": "stream",
     "text": [
      "Epoch 1/30\n",
      "1257/1257 [==============================] - 1359s 1s/step - loss: 0.8086 - accuracy: 0.7096 - top_1_acc: 0.7096 - top_2_acc: 0.8656 - top_3_acc: 0.9410 - auc: 0.9451 - MatthewsCorrelationCoefficient: 0.6615 - val_loss: 0.7662 - val_accuracy: 0.7540 - val_top_1_acc: 0.7540 - val_top_2_acc: 0.8800 - val_top_3_acc: 0.9540 - val_auc: 0.9556 - val_MatthewsCorrelationCoefficient: 0.4789\n",
      "Epoch 2/30\n",
      "1257/1257 [==============================] - 840s 668ms/step - loss: 0.5422 - accuracy: 0.8056 - top_1_acc: 0.8056 - top_2_acc: 0.9302 - top_3_acc: 0.9773 - auc: 0.9743 - MatthewsCorrelationCoefficient: 0.7733 - val_loss: 0.7025 - val_accuracy: 0.7730 - val_top_1_acc: 0.7730 - val_top_2_acc: 0.8980 - val_top_3_acc: 0.9630 - val_auc: 0.9599 - val_MatthewsCorrelationCoefficient: 0.5396\n",
      "Epoch 3/30\n",
      "1257/1257 [==============================] - 511s 406ms/step - loss: 0.4454 - accuracy: 0.8398 - top_1_acc: 0.8398 - top_2_acc: 0.9484 - top_3_acc: 0.9851 - auc: 0.9821 - MatthewsCorrelationCoefficient: 0.8132 - val_loss: 0.7787 - val_accuracy: 0.7490 - val_top_1_acc: 0.7490 - val_top_2_acc: 0.9060 - val_top_3_acc: 0.9660 - val_auc: 0.9512 - val_MatthewsCorrelationCoefficient: 0.5277\n",
      "Epoch 4/30\n",
      "1257/1257 [==============================] - 521s 414ms/step - loss: 0.3900 - accuracy: 0.8605 - top_1_acc: 0.8605 - top_2_acc: 0.9582 - top_3_acc: 0.9885 - auc: 0.9858 - MatthewsCorrelationCoefficient: 0.8374 - val_loss: 0.6038 - val_accuracy: 0.7880 - val_top_1_acc: 0.7880 - val_top_2_acc: 0.9220 - val_top_3_acc: 0.9700 - val_auc: 0.9694 - val_MatthewsCorrelationCoefficient: 0.5522\n",
      "Epoch 5/30\n",
      "1257/1257 [==============================] - 472s 375ms/step - loss: 0.3413 - accuracy: 0.8784 - top_1_acc: 0.8784 - top_2_acc: 0.9656 - top_3_acc: 0.9916 - auc: 0.9888 - MatthewsCorrelationCoefficient: 0.8582 - val_loss: 0.6903 - val_accuracy: 0.7660 - val_top_1_acc: 0.7660 - val_top_2_acc: 0.9090 - val_top_3_acc: 0.9650 - val_auc: 0.9616 - val_MatthewsCorrelationCoefficient: 0.5163\n",
      "Epoch 6/30\n",
      "1257/1257 [==============================] - 412s 328ms/step - loss: 0.3009 - accuracy: 0.8913 - top_1_acc: 0.8913 - top_2_acc: 0.9727 - top_3_acc: 0.9934 - auc: 0.9910 - MatthewsCorrelationCoefficient: 0.8732 - val_loss: 0.7368 - val_accuracy: 0.7820 - val_top_1_acc: 0.7820 - val_top_2_acc: 0.9220 - val_top_3_acc: 0.9710 - val_auc: 0.9623 - val_MatthewsCorrelationCoefficient: 0.5395\n",
      "\n",
      "Epoch 00006: ReduceLROnPlateau reducing learning rate to 0.0005000000237487257.\n",
      "Epoch 7/30\n",
      "1257/1257 [==============================] - 409s 325ms/step - loss: 0.2001 - accuracy: 0.9279 - top_1_acc: 0.9279 - top_2_acc: 0.9853 - top_3_acc: 0.9976 - auc: 0.9957 - MatthewsCorrelationCoefficient: 0.9159 - val_loss: 0.6704 - val_accuracy: 0.8250 - val_top_1_acc: 0.8250 - val_top_2_acc: 0.9370 - val_top_3_acc: 0.9780 - val_auc: 0.9662 - val_MatthewsCorrelationCoefficient: 0.6411\n",
      "Epoch 8/30\n",
      "1257/1257 [==============================] - 463s 369ms/step - loss: 0.1753 - accuracy: 0.9359 - top_1_acc: 0.9359 - top_2_acc: 0.9883 - top_3_acc: 0.9982 - auc: 0.9966 - MatthewsCorrelationCoefficient: 0.9252 - val_loss: 0.7136 - val_accuracy: 0.8090 - val_top_1_acc: 0.8090 - val_top_2_acc: 0.9350 - val_top_3_acc: 0.9760 - val_auc: 0.9622 - val_MatthewsCorrelationCoefficient: 0.6010\n",
      "\n",
      "Epoch 00008: ReduceLROnPlateau reducing learning rate to 0.0002500000118743628.\n",
      "Epoch 9/30\n",
      "1257/1257 [==============================] - 657s 522ms/step - loss: 0.1278 - accuracy: 0.9534 - top_1_acc: 0.9534 - top_2_acc: 0.9921 - top_3_acc: 0.9991 - auc: 0.9980 - MatthewsCorrelationCoefficient: 0.9457 - val_loss: 0.7521 - val_accuracy: 0.8210 - val_top_1_acc: 0.8210 - val_top_2_acc: 0.9380 - val_top_3_acc: 0.9770 - val_auc: 0.9614 - val_MatthewsCorrelationCoefficient: 0.6383\n",
      "Epoch 00009: early stopping\n"
     ]
    }
   ],
   "source": [
    "step_size_train=train_data.n//train_data.batch_size\n",
    "history = model.fit_generator(generator=train_data,\n",
    "                   steps_per_epoch=step_size_train,\n",
    "                   validation_data=val_data,\n",
    "                    epochs=30, \n",
    "                    verbose = 1,\n",
    "                             callbacks=[lrReduction, early_stopping])"
   ]
  },
  {
   "cell_type": "code",
   "execution_count": 21,
   "metadata": {},
   "outputs": [
    {
     "name": "stdout",
     "output_type": "stream",
     "text": [
      "1258/1258 [==============================] - 974s 774ms/step - loss: 0.0912 - accuracy: 0.9667 - top_1_acc: 0.9667 - top_2_acc: 0.9953 - top_3_acc: 0.9995 - auc: 0.9990 - MatthewsCorrelationCoefficient: 0.9611\n"
     ]
    }
   ],
   "source": [
    "loss,accuracy,top_1,top_2,top_3,auc,mcc = model.evaluate(train_data)"
   ]
  },
  {
   "cell_type": "code",
   "execution_count": 20,
   "metadata": {},
   "outputs": [
    {
     "name": "stdout",
     "output_type": "stream",
     "text": [
      "32/32 [==============================] - 7s 221ms/step - loss: 0.7472 - accuracy: 0.8232 - top_1_acc: 0.8232 - top_2_acc: 0.9394 - top_3_acc: 0.9742 - auc: 0.9630 - MatthewsCorrelationCoefficient: 0.6474\n"
     ]
    }
   ],
   "source": [
    "loss,accuracy,top_1,top_2,top_3,auc,mcc = model.evaluate(test_data)"
   ]
  },
  {
   "cell_type": "code",
   "execution_count": 22,
   "metadata": {},
   "outputs": [
    {
     "data": {
      "image/png": "[encoded data removed]",
      "text/plain": [
       "<Figure size 432x288 with 1 Axes>"
      ]
     },
     "metadata": {
      "needs_background": "light"
     },
     "output_type": "display_data"
    }
   ],
   "source": [
    "plt.plot(history.history['accuracy'])\n",
    "plt.plot(history.history['val_accuracy'])\n",
    "plt.title('Model Accuracy')\n",
    "plt.ylabel('Accuracy')\n",
    "plt.xlabel('Epoch')\n",
    "plt.legend(['Train Accuracy', 'Test Accuracy'], loc='upper left')\n",
    "plt.show()"
   ]
  },
  {
   "cell_type": "code",
   "execution_count": 23,
   "metadata": {},
   "outputs": [
    {
     "data": {
      "image/png": "[encoded data removed]",
      "text/plain": [
       "<Figure size 432x288 with 1 Axes>"
      ]
     },
     "metadata": {
      "needs_background": "light"
     },
     "output_type": "display_data"
    }
   ],
   "source": [
    "plt.plot(history.history['loss'])\n",
    "plt.plot(history.history['val_loss'])\n",
    "plt.title('Model Loss')\n",
    "plt.ylabel('Loss')\n",
    "plt.xlabel('Epoch')\n",
    "plt.legend(['Train Loss', 'Test Loss'], loc='upper left')\n",
    "plt.show()"
   ]
  },
  {
   "cell_type": "code",
   "execution_count": 24,
   "metadata": {},
   "outputs": [
    {
     "data": {
      "image/png": "[encoded data removed]",
      "text/plain": [
       "<Figure size 432x288 with 1 Axes>"
      ]
     },
     "metadata": {
      "needs_background": "light"
     },
     "output_type": "display_data"
    }
   ],
   "source": [
    "plt.plot(history.history['auc'])\n",
    "plt.plot(history.history['val_auc'])\n",
    "plt.title('Model AUC Score')\n",
    "plt.ylabel('AUC Score')\n",
    "plt.xlabel('Epoch')\n",
    "plt.legend(['Train AUC', 'Test AUC'], loc='upper left')\n",
    "plt.show()"
   ]
  },
  {
   "cell_type": "code",
   "execution_count": null,
   "metadata": {},
   "outputs": [],
   "source": []
  }
 ],
 "metadata": {
  "accelerator": "GPU",
  "colab": {
   "name": "SKIN_DISEASE_PREDICTION_Anshuman.ipynb",
   "provenance": []
  },
  "kernelspec": {
   "display_name": "Python 3",
   "language": "python",
   "name": "python3"
  },
  "language_info": {
   "codemirror_mode": {
    "name": "ipython",
    "version": 3
   },
   "file_extension": ".py",
   "mimetype": "text/x-python",
   "name": "python",
   "nbconvert_exporter": "python",
   "pygments_lexer": "ipython3",
   "version": "3.9.5"
  }
 },
 "nbformat": 4,
 "nbformat_minor": 1
}
