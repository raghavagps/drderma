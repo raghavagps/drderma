{
 "cells": [
  {
   "cell_type": "markdown",
   "metadata": {
    "id": "U7j5B2r_ZBxT"
   },
   "source": [
    "# Import Statements"
   ]
  },
  {
   "cell_type": "code",
   "execution_count": 5,
   "metadata": {
    "id": "EsteEwFALyTR"
   },
   "outputs": [],
   "source": [
    "import pandas as pd\n",
    "import numpy as np\n",
    "import os\n",
    "from tqdm import tqdm\n",
    "import math\n",
    "import tensorflow as tf\n",
    "from keras.preprocessing.image import ImageDataGenerator\n",
    "from PIL import Image\n",
    "from sklearn.preprocessing import LabelEncoder\n",
    "import PIL\n",
    "import matplotlib.pyplot as plt\n",
    "import glob"
   ]
  },
  {
   "cell_type": "markdown",
   "metadata": {
    "id": "BbfScvB-ZGEq"
   },
   "source": [
    "# Reading the Metadata"
   ]
  },
  {
   "cell_type": "code",
   "execution_count": 3,
   "metadata": {
    "id": "5C_WHJdgOA0Q"
   },
   "outputs": [],
   "source": [
    "root = \"D:\\IIIT-D\\Summer Semester\\CAPSTONE PROJECT\\Complete Dataset\""
   ]
  },
  {
   "cell_type": "code",
   "execution_count": 4,
   "metadata": {
    "id": "_TdieB7DTOwZ"
   },
   "outputs": [],
   "source": [
    "metadata = pd.read_csv(root+\"\\HAM10000_metadata\")"
   ]
  },
  {
   "cell_type": "code",
   "execution_count": 5,
   "metadata": {
    "colab": {
     "base_uri": "https://localhost:8080/"
    },
    "id": "iluDKKrKSKdg",
    "outputId": "5e25259b-b56e-45be-b275-2ebd669e41bb"
   },
   "outputs": [
    {
     "data": {
      "text/plain": [
       "nv       6705\n",
       "mel      1113\n",
       "bkl      1099\n",
       "bcc       514\n",
       "akiec     327\n",
       "vasc      142\n",
       "df        115\n",
       "Name: dx, dtype: int64"
      ]
     },
     "execution_count": 5,
     "metadata": {},
     "output_type": "execute_result"
    }
   ],
   "source": [
    "metadata['dx'].value_counts()"
   ]
  },
  {
   "cell_type": "code",
   "execution_count": 6,
   "metadata": {
    "id": "GR_A-RIEnnmJ"
   },
   "outputs": [],
   "source": [
    "le = LabelEncoder()"
   ]
  },
  {
   "cell_type": "code",
   "execution_count": 7,
   "metadata": {
    "colab": {
     "base_uri": "https://localhost:8080/"
    },
    "id": "bGPMGQdVnq3F",
    "outputId": "4a51937c-afda-459a-cca7-48271a4df1f9"
   },
   "outputs": [
    {
     "data": {
      "text/plain": [
       "LabelEncoder()"
      ]
     },
     "execution_count": 7,
     "metadata": {},
     "output_type": "execute_result"
    }
   ],
   "source": [
    "le.fit(metadata['dx'])"
   ]
  },
  {
   "cell_type": "code",
   "execution_count": 8,
   "metadata": {
    "id": "49czVKnhnqsQ"
   },
   "outputs": [],
   "source": [
    "metadata['class_label']=le.transform(metadata['dx'])"
   ]
  },
  {
   "cell_type": "code",
   "execution_count": 9,
   "metadata": {
    "colab": {
     "base_uri": "https://localhost:8080/"
    },
    "id": "u26sYeiio47V",
    "outputId": "56bcf6d9-ba79-4665-851d-909397212a71"
   },
   "outputs": [
    {
     "data": {
      "text/plain": [
       "5    6705\n",
       "4    1113\n",
       "2    1099\n",
       "1     514\n",
       "0     327\n",
       "6     142\n",
       "3     115\n",
       "Name: class_label, dtype: int64"
      ]
     },
     "execution_count": 9,
     "metadata": {},
     "output_type": "execute_result"
    }
   ],
   "source": [
    "metadata['class_label'].value_counts()"
   ]
  },
  {
   "cell_type": "markdown",
   "metadata": {
    "id": "Ljgpv05ZfzqY"
   },
   "source": [
    "# Organising The Dataset"
   ]
  },
  {
   "cell_type": "code",
   "execution_count": 10,
   "metadata": {
    "id": "7sqz1wobc76r"
   },
   "outputs": [],
   "source": [
    "# classes=metadata['dx'].unique().tolist()"
   ]
  },
  {
   "cell_type": "code",
   "execution_count": 11,
   "metadata": {
    "id": "3lJsBVC5chcI"
   },
   "outputs": [],
   "source": [
    "# import shutil"
   ]
  },
  {
   "cell_type": "code",
   "execution_count": 12,
   "metadata": {
    "id": "m7ToE5aVi3fV"
   },
   "outputs": [],
   "source": [
    "# source_dir=\"D:\\IIIT-D\\Summer Semester\\CAPSTONE PROJECT\\Complete Dataset\\HAM10000_all_images\"\n",
    "# dest_dir=\"D:/IIIT-D/Summer Semester/CAPSTONE PROJECT/Complete Dataset/Class Wise Organised Images/\""
   ]
  },
  {
   "cell_type": "code",
   "execution_count": 13,
   "metadata": {
    "id": "EU_5N1qld_gp"
   },
   "outputs": [],
   "source": [
    "# class_images=[]\n",
    "# for i in tqdm(classes,):\n",
    "#   if not os.path.exists(dest_dir + str(i) + \"/\"): \n",
    "#     os.mkdir(dest_dir + str(i) + \"/\")\n",
    "#   image_ids = metadata[metadata['dx'] == i]['image_id']\n",
    "#   class_images.extend(image_ids)\n",
    "#   for id in tqdm(class_images):\n",
    "#     if os.path.exists(dest_dir + i + \"/\"+id+\".jpg\"):\n",
    "#       continue\n",
    "#     else:\n",
    "#       shutil.copyfile((source_dir + \"/\"+ id +\".jpg\"), (dest_dir + i + \"/\"+id+\".jpg\"))\n",
    "#   class_images=[] "
   ]
  },
  {
   "cell_type": "markdown",
   "metadata": {},
   "source": [
    "# Train Test Split "
   ]
  },
  {
   "cell_type": "code",
   "execution_count": 14,
   "metadata": {},
   "outputs": [],
   "source": [
    "# !pip install split-folders tqdm"
   ]
  },
  {
   "cell_type": "code",
   "execution_count": 38,
   "metadata": {},
   "outputs": [
    {
     "name": "stderr",
     "output_type": "stream",
     "text": [
      "Copying files: 10015 files [02:37, 63.56 files/s] \n"
     ]
    }
   ],
   "source": [
    "# import splitfolders\n",
    "# input_folder = root+'/Class Wise Organised Images'\n",
    "# output_folder = root+'/Train_Val_Test_Split'\n",
    "# splitfolders.ratio(input=input_folder, output=output_folder, seed=1337, ratio=(.8, .1, .1), group_prefix=None)"
   ]
  },
  {
   "cell_type": "markdown",
   "metadata": {
    "id": "lekprLVHax54"
   },
   "source": [
    "# Build A Model"
   ]
  },
  {
   "cell_type": "markdown",
   "metadata": {
    "id": "7-r946OCa3_d"
   },
   "source": [
    "## Preprocessing"
   ]
  },
  {
   "cell_type": "code",
   "execution_count": 66,
   "metadata": {
    "id": "JE815ffda66Q"
   },
   "outputs": [],
   "source": [
    "train_datagen = ImageDataGenerator(rescale= 1./255,shear_range=0.2,zoom_range=0.2,horizontal_flip=True)"
   ]
  },
  {
   "cell_type": "code",
   "execution_count": 67,
   "metadata": {
    "id": "BF8JO6mGbYzP"
   },
   "outputs": [],
   "source": [
    "test_datagen = ImageDataGenerator(rescale=1./255)"
   ]
  },
  {
   "cell_type": "code",
   "execution_count": 68,
   "metadata": {
    "colab": {
     "base_uri": "https://localhost:8080/"
    },
    "id": "Ju6n_3m9bgUn",
    "outputId": "251c71b5-d585-413e-f5fd-6d9fd73c073a"
   },
   "outputs": [
    {
     "name": "stdout",
     "output_type": "stream",
     "text": [
      "Found 8010 images belonging to 7 classes.\n"
     ]
    }
   ],
   "source": [
    "train_data = train_datagen.flow_from_directory(root+\"/Train_Val_Test_Split/train\",target_size=(224,224),batch_size=32,class_mode='categorical')"
   ]
  },
  {
   "cell_type": "code",
   "execution_count": 69,
   "metadata": {
    "colab": {
     "base_uri": "https://localhost:8080/"
    },
    "id": "O0IIuLhpb1f9",
    "outputId": "efb63246-df40-4d4b-abc6-0e1694ffd4a4"
   },
   "outputs": [
    {
     "name": "stdout",
     "output_type": "stream",
     "text": [
      "Found 998 images belonging to 7 classes.\n"
     ]
    }
   ],
   "source": [
    "val_data = test_datagen.flow_from_directory(root+\"/Train_Val_Test_Split/val\",target_size=(224,224),batch_size=32,class_mode='categorical')"
   ]
  },
  {
   "cell_type": "code",
   "execution_count": 70,
   "metadata": {},
   "outputs": [
    {
     "name": "stdout",
     "output_type": "stream",
     "text": [
      "Found 1007 images belonging to 7 classes.\n"
     ]
    }
   ],
   "source": [
    "test_data = test_datagen.flow_from_directory(root+\"/Train_Val_Test_Split/test\",target_size=(224,224),batch_size=32,class_mode='categorical')"
   ]
  },
  {
   "cell_type": "markdown",
   "metadata": {
    "id": "7eKAdFwLeUw_"
   },
   "source": [
    "# Building The CNN"
   ]
  },
  {
   "cell_type": "code",
   "execution_count": 71,
   "metadata": {
    "colab": {
     "base_uri": "https://localhost:8080/"
    },
    "id": "dDfjOPsEsywm",
    "outputId": "e436218d-d798-4060-8022-0b7833aaba9e"
   },
   "outputs": [],
   "source": [
    "VGG16_MODEL=tf.keras.applications.VGG16(input_shape=[224, 224, 3],\n",
    "                                               include_top=False,\n",
    "                                               pooling=\"max\",\n",
    "                                               weights='imagenet')"
   ]
  },
  {
   "cell_type": "code",
   "execution_count": 102,
   "metadata": {
    "id": "HJrDyvXgtKuq"
   },
   "outputs": [],
   "source": [
    "VGG16_MODEL.trainable=False"
   ]
  },
  {
   "cell_type": "code",
   "execution_count": 109,
   "metadata": {},
   "outputs": [
    {
     "name": "stdout",
     "output_type": "stream",
     "text": [
      "Model: \"vgg16\"\n",
      "_________________________________________________________________\n",
      "Layer (type)                 Output Shape              Param #   \n",
      "=================================================================\n",
      "input_5 (InputLayer)         [(None, 224, 224, 3)]     0         \n",
      "_________________________________________________________________\n",
      "block1_conv1 (Conv2D)        (None, 224, 224, 64)      1792      \n",
      "_________________________________________________________________\n",
      "block1_conv2 (Conv2D)        (None, 224, 224, 64)      36928     \n",
      "_________________________________________________________________\n",
      "block1_pool (MaxPooling2D)   (None, 112, 112, 64)      0         \n",
      "_________________________________________________________________\n",
      "block2_conv1 (Conv2D)        (None, 112, 112, 128)     73856     \n",
      "_________________________________________________________________\n",
      "block2_conv2 (Conv2D)        (None, 112, 112, 128)     147584    \n",
      "_________________________________________________________________\n",
      "block2_pool (MaxPooling2D)   (None, 56, 56, 128)       0         \n",
      "_________________________________________________________________\n",
      "block3_conv1 (Conv2D)        (None, 56, 56, 256)       295168    \n",
      "_________________________________________________________________\n",
      "block3_conv2 (Conv2D)        (None, 56, 56, 256)       590080    \n",
      "_________________________________________________________________\n",
      "block3_conv3 (Conv2D)        (None, 56, 56, 256)       590080    \n",
      "_________________________________________________________________\n",
      "block3_pool (MaxPooling2D)   (None, 28, 28, 256)       0         \n",
      "_________________________________________________________________\n",
      "block4_conv1 (Conv2D)        (None, 28, 28, 512)       1180160   \n",
      "_________________________________________________________________\n",
      "block4_conv2 (Conv2D)        (None, 28, 28, 512)       2359808   \n",
      "_________________________________________________________________\n",
      "block4_conv3 (Conv2D)        (None, 28, 28, 512)       2359808   \n",
      "_________________________________________________________________\n",
      "block4_pool (MaxPooling2D)   (None, 14, 14, 512)       0         \n",
      "_________________________________________________________________\n",
      "block5_conv1 (Conv2D)        (None, 14, 14, 512)       2359808   \n",
      "_________________________________________________________________\n",
      "block5_conv2 (Conv2D)        (None, 14, 14, 512)       2359808   \n",
      "_________________________________________________________________\n",
      "block5_conv3 (Conv2D)        (None, 14, 14, 512)       2359808   \n",
      "_________________________________________________________________\n",
      "block5_pool (MaxPooling2D)   (None, 7, 7, 512)         0         \n",
      "_________________________________________________________________\n",
      "global_max_pooling2d_4 (Glob (None, 512)               0         \n",
      "=================================================================\n",
      "Total params: 14,714,688\n",
      "Trainable params: 0\n",
      "Non-trainable params: 14,714,688\n",
      "_________________________________________________________________\n"
     ]
    }
   ],
   "source": [
    "VGG16_MODEL.summary()"
   ]
  },
  {
   "cell_type": "code",
   "execution_count": 103,
   "metadata": {
    "id": "rKvBk5fnMdOu"
   },
   "outputs": [],
   "source": [
    "# global_average_layer = tf.keras.layers.GlobalAveragePooling2D()"
   ]
  },
  {
   "cell_type": "code",
   "execution_count": 110,
   "metadata": {
    "id": "PCLV2-mFtSIC"
   },
   "outputs": [],
   "source": [
    "prediction_layer = tf.keras.layers.Dense(7,activation='softmax')"
   ]
  },
  {
   "cell_type": "code",
   "execution_count": 111,
   "metadata": {
    "id": "ALNvlh6Btkwi"
   },
   "outputs": [],
   "source": [
    "model = tf.keras.Sequential([\n",
    "  VGG16_MODEL,\n",
    "  tf.keras.layers.Dense(units=4096, activation='relu'),\n",
    "  tf.keras.layers.Dense(units=4096, activation='relu'),\n",
    "  tf.keras.layers.Dense(units=4096, activation='relu'),\n",
    "  prediction_layer\n",
    "])"
   ]
  },
  {
   "cell_type": "code",
   "execution_count": 112,
   "metadata": {
    "id": "m6muraKYxDY5"
   },
   "outputs": [],
   "source": [
    "initial_learning_rate=0.001\n",
    "def lr_step_decay(epoch, lr):\n",
    "    drop_rate = 0.5\n",
    "    epochs_drop = 5.0\n",
    "    return initial_learning_rate * math.pow(drop_rate, math.floor(epoch/epochs_drop))"
   ]
  },
  {
   "cell_type": "code",
   "execution_count": 113,
   "metadata": {
    "id": "xTk1rRbdtsSs"
   },
   "outputs": [],
   "source": [
    "model.compile(optimizer = tf.keras.optimizers.Adam(learning_rate=0.001), loss = 'categorical_crossentropy', metrics = ['accuracy',tf.keras.metrics.AUC(curve='ROC')],)"
   ]
  },
  {
   "cell_type": "code",
   "execution_count": 114,
   "metadata": {
    "scrolled": false
   },
   "outputs": [
    {
     "name": "stdout",
     "output_type": "stream",
     "text": [
      "Model: \"sequential_10\"\n",
      "_________________________________________________________________\n",
      "Layer (type)                 Output Shape              Param #   \n",
      "=================================================================\n",
      "vgg16 (Functional)           (None, 512)               14714688  \n",
      "_________________________________________________________________\n",
      "dense_34 (Dense)             (None, 4096)              2101248   \n",
      "_________________________________________________________________\n",
      "dense_35 (Dense)             (None, 4096)              16781312  \n",
      "_________________________________________________________________\n",
      "dense_36 (Dense)             (None, 4096)              16781312  \n",
      "_________________________________________________________________\n",
      "dense_33 (Dense)             (None, 7)                 28679     \n",
      "=================================================================\n",
      "Total params: 50,407,239\n",
      "Trainable params: 35,692,551\n",
      "Non-trainable params: 14,714,688\n",
      "_________________________________________________________________\n"
     ]
    }
   ],
   "source": [
    "model.summary()"
   ]
  },
  {
   "cell_type": "code",
   "execution_count": 117,
   "metadata": {
    "colab": {
     "base_uri": "https://localhost:8080/"
    },
    "id": "VtGgRVpLtwIo",
    "outputId": "10691e80-876b-44a3-b8e2-f07ada9a9089",
    "scrolled": false
   },
   "outputs": [
    {
     "name": "stdout",
     "output_type": "stream",
     "text": [
      "Epoch 1/30\n",
      "\n",
      "Epoch 00001: LearningRateScheduler reducing learning rate to 0.001.\n",
      "251/251 [==============================] - 211s 840ms/step - loss: 0.9622 - accuracy: 0.6738 - auc_6: 0.9205 - val_loss: 0.8993 - val_accuracy: 0.6754 - val_auc_6: 0.9318\n",
      "Epoch 2/30\n",
      "\n",
      "Epoch 00002: LearningRateScheduler reducing learning rate to 0.001.\n",
      "251/251 [==============================] - 112s 446ms/step - loss: 0.8976 - accuracy: 0.6841 - auc_6: 0.9309 - val_loss: 0.8527 - val_accuracy: 0.6914 - val_auc_6: 0.9386\n",
      "Epoch 3/30\n",
      "\n",
      "Epoch 00003: LearningRateScheduler reducing learning rate to 0.001.\n",
      "251/251 [==============================] - 111s 443ms/step - loss: 0.8662 - accuracy: 0.6904 - auc_6: 0.9362 - val_loss: 0.8674 - val_accuracy: 0.6733 - val_auc_6: 0.9375\n",
      "Epoch 4/30\n",
      "\n",
      "Epoch 00004: LearningRateScheduler reducing learning rate to 0.001.\n",
      "251/251 [==============================] - 112s 444ms/step - loss: 0.8531 - accuracy: 0.6939 - auc_6: 0.9380 - val_loss: 0.8267 - val_accuracy: 0.6854 - val_auc_6: 0.9421\n",
      "Epoch 5/30\n",
      "\n",
      "Epoch 00005: LearningRateScheduler reducing learning rate to 0.001.\n",
      "251/251 [==============================] - 112s 446ms/step - loss: 0.8285 - accuracy: 0.6994 - auc_6: 0.9417 - val_loss: 0.8445 - val_accuracy: 0.6984 - val_auc_6: 0.9414\n",
      "Epoch 6/30\n",
      "\n",
      "Epoch 00006: LearningRateScheduler reducing learning rate to 0.0005.\n",
      "251/251 [==============================] - 112s 446ms/step - loss: 0.7815 - accuracy: 0.7159 - auc_6: 0.9484 - val_loss: 0.7999 - val_accuracy: 0.6974 - val_auc_6: 0.9460\n",
      "Epoch 7/30\n",
      "\n",
      "Epoch 00007: LearningRateScheduler reducing learning rate to 0.0005.\n",
      "251/251 [==============================] - 112s 445ms/step - loss: 0.7647 - accuracy: 0.7203 - auc_6: 0.9503 - val_loss: 0.7910 - val_accuracy: 0.7004 - val_auc_6: 0.9467\n",
      "Epoch 8/30\n",
      "\n",
      "Epoch 00008: LearningRateScheduler reducing learning rate to 0.0005.\n",
      "251/251 [==============================] - 180s 716ms/step - loss: 0.7662 - accuracy: 0.7226 - auc_6: 0.9502 - val_loss: 0.7876 - val_accuracy: 0.7084 - val_auc_6: 0.9486\n",
      "Epoch 9/30\n",
      "\n",
      "Epoch 00009: LearningRateScheduler reducing learning rate to 0.0005.\n",
      "251/251 [==============================] - 174s 691ms/step - loss: 0.7504 - accuracy: 0.7265 - auc_6: 0.9521 - val_loss: 0.7690 - val_accuracy: 0.7054 - val_auc_6: 0.9501\n",
      "Epoch 10/30\n",
      "\n",
      "Epoch 00010: LearningRateScheduler reducing learning rate to 0.0005.\n",
      "251/251 [==============================] - 133s 529ms/step - loss: 0.7321 - accuracy: 0.7333 - auc_6: 0.9546 - val_loss: 0.8031 - val_accuracy: 0.7094 - val_auc_6: 0.9473\n",
      "Epoch 11/30\n",
      "\n",
      "Epoch 00011: LearningRateScheduler reducing learning rate to 0.00025.\n",
      "251/251 [==============================] - 123s 489ms/step - loss: 0.7094 - accuracy: 0.7378 - auc_6: 0.9574 - val_loss: 0.7697 - val_accuracy: 0.7024 - val_auc_6: 0.9506\n",
      "Epoch 12/30\n",
      "\n",
      "Epoch 00012: LearningRateScheduler reducing learning rate to 0.00025.\n",
      "251/251 [==============================] - 113s 448ms/step - loss: 0.6983 - accuracy: 0.7436 - auc_6: 0.9586 - val_loss: 0.7754 - val_accuracy: 0.7074 - val_auc_6: 0.9495\n",
      "Epoch 13/30\n",
      "\n",
      "Epoch 00013: LearningRateScheduler reducing learning rate to 0.00025.\n",
      "251/251 [==============================] - 125s 497ms/step - loss: 0.6979 - accuracy: 0.7431 - auc_6: 0.9588 - val_loss: 0.7726 - val_accuracy: 0.7104 - val_auc_6: 0.9492\n",
      "Epoch 14/30\n",
      "\n",
      "Epoch 00014: LearningRateScheduler reducing learning rate to 0.00025.\n",
      "251/251 [==============================] - 119s 473ms/step - loss: 0.6804 - accuracy: 0.7493 - auc_6: 0.9607 - val_loss: 0.7645 - val_accuracy: 0.7275 - val_auc_6: 0.9507\n",
      "Epoch 15/30\n",
      "\n",
      "Epoch 00015: LearningRateScheduler reducing learning rate to 0.00025.\n",
      "251/251 [==============================] - 121s 480ms/step - loss: 0.6850 - accuracy: 0.7463 - auc_6: 0.9604 - val_loss: 0.7745 - val_accuracy: 0.7064 - val_auc_6: 0.9505\n",
      "Epoch 16/30\n",
      "\n",
      "Epoch 00016: LearningRateScheduler reducing learning rate to 0.000125.\n",
      "251/251 [==============================] - 164s 654ms/step - loss: 0.6629 - accuracy: 0.7509 - auc_6: 0.9627 - val_loss: 0.7556 - val_accuracy: 0.7064 - val_auc_6: 0.9523\n",
      "Epoch 17/30\n",
      "\n",
      "Epoch 00017: LearningRateScheduler reducing learning rate to 0.000125.\n",
      "251/251 [==============================] - 233s 928ms/step - loss: 0.6505 - accuracy: 0.7588 - auc_6: 0.9641 - val_loss: 0.7689 - val_accuracy: 0.7255 - val_auc_6: 0.9506\n",
      "Epoch 18/30\n",
      "\n",
      "Epoch 00018: LearningRateScheduler reducing learning rate to 0.000125.\n",
      "251/251 [==============================] - 178s 708ms/step - loss: 0.6480 - accuracy: 0.7608 - auc_6: 0.9644 - val_loss: 0.7603 - val_accuracy: 0.7094 - val_auc_6: 0.9521\n",
      "Epoch 19/30\n",
      "\n",
      "Epoch 00019: LearningRateScheduler reducing learning rate to 0.000125.\n",
      "251/251 [==============================] - 251s 1s/step - loss: 0.6444 - accuracy: 0.7612 - auc_6: 0.9649 - val_loss: 0.7583 - val_accuracy: 0.7255 - val_auc_6: 0.9518\n",
      "Epoch 20/30\n",
      "\n",
      "Epoch 00020: LearningRateScheduler reducing learning rate to 0.000125.\n",
      "251/251 [==============================] - 233s 929ms/step - loss: 0.6440 - accuracy: 0.7597 - auc_6: 0.9648 - val_loss: 0.7517 - val_accuracy: 0.7295 - val_auc_6: 0.9526\n",
      "Epoch 21/30\n",
      "\n",
      "Epoch 00021: LearningRateScheduler reducing learning rate to 6.25e-05.\n",
      "251/251 [==============================] - 184s 734ms/step - loss: 0.6288 - accuracy: 0.7648 - auc_6: 0.9665 - val_loss: 0.7568 - val_accuracy: 0.7204 - val_auc_6: 0.9525\n",
      "Epoch 22/30\n",
      "\n",
      "Epoch 00022: LearningRateScheduler reducing learning rate to 6.25e-05.\n",
      "251/251 [==============================] - 194s 772ms/step - loss: 0.6204 - accuracy: 0.7727 - auc_6: 0.9673 - val_loss: 0.7724 - val_accuracy: 0.7164 - val_auc_6: 0.9512\n",
      "Epoch 23/30\n",
      "\n",
      "Epoch 00023: LearningRateScheduler reducing learning rate to 6.25e-05.\n",
      "251/251 [==============================] - 189s 751ms/step - loss: 0.6192 - accuracy: 0.7672 - auc_6: 0.9675 - val_loss: 0.7621 - val_accuracy: 0.7164 - val_auc_6: 0.9519\n",
      "Epoch 24/30\n",
      "\n",
      "Epoch 00024: LearningRateScheduler reducing learning rate to 6.25e-05.\n",
      "251/251 [==============================] - 193s 769ms/step - loss: 0.6295 - accuracy: 0.7679 - auc_6: 0.9663 - val_loss: 0.7587 - val_accuracy: 0.7255 - val_auc_6: 0.9517\n",
      "Epoch 25/30\n",
      "\n",
      "Epoch 00025: LearningRateScheduler reducing learning rate to 6.25e-05.\n",
      "251/251 [==============================] - 194s 773ms/step - loss: 0.6151 - accuracy: 0.7709 - auc_6: 0.9678 - val_loss: 0.7665 - val_accuracy: 0.7234 - val_auc_6: 0.9508\n",
      "Epoch 26/30\n",
      "\n",
      "Epoch 00026: LearningRateScheduler reducing learning rate to 3.125e-05.\n",
      "251/251 [==============================] - 182s 724ms/step - loss: 0.6039 - accuracy: 0.7745 - auc_6: 0.9690 - val_loss: 0.7662 - val_accuracy: 0.7204 - val_auc_6: 0.9511\n",
      "Epoch 27/30\n",
      "\n",
      "Epoch 00027: LearningRateScheduler reducing learning rate to 3.125e-05.\n",
      "251/251 [==============================] - 179s 715ms/step - loss: 0.6146 - accuracy: 0.7694 - auc_6: 0.9679 - val_loss: 0.7571 - val_accuracy: 0.7234 - val_auc_6: 0.9520\n",
      "Epoch 28/30\n",
      "\n",
      "Epoch 00028: LearningRateScheduler reducing learning rate to 3.125e-05.\n",
      "251/251 [==============================] - 183s 727ms/step - loss: 0.5993 - accuracy: 0.7714 - auc_6: 0.9696 - val_loss: 0.7573 - val_accuracy: 0.7214 - val_auc_6: 0.9519\n",
      "Epoch 29/30\n",
      "\n",
      "Epoch 00029: LearningRateScheduler reducing learning rate to 3.125e-05.\n",
      "251/251 [==============================] - 191s 759ms/step - loss: 0.6094 - accuracy: 0.7738 - auc_6: 0.9685 - val_loss: 0.7618 - val_accuracy: 0.7174 - val_auc_6: 0.9521\n",
      "Epoch 30/30\n",
      "\n",
      "Epoch 00030: LearningRateScheduler reducing learning rate to 3.125e-05.\n",
      "251/251 [==============================] - 190s 757ms/step - loss: 0.6074 - accuracy: 0.7697 - auc_6: 0.9687 - val_loss: 0.7577 - val_accuracy: 0.7194 - val_auc_6: 0.9520\n",
      "Wall time: 1h 21min 47s\n"
     ]
    }
   ],
   "source": [
    "%%time\n",
    "from tensorflow.keras.callbacks import LearningRateScheduler\n",
    "\n",
    "history = model.fit(x=train_data,\n",
    "                    epochs=30, \n",
    "                    validation_data=val_data,\n",
    "                    callbacks=[LearningRateScheduler(lr_step_decay, verbose=1)])"
   ]
  },
  {
   "cell_type": "code",
   "execution_count": 118,
   "metadata": {
    "id": "L_VtmyGjuNvy"
   },
   "outputs": [
    {
     "name": "stdout",
     "output_type": "stream",
     "text": [
      "32/32 [==============================] - 16s 502ms/step - loss: 0.7583 - accuracy: 0.7368 - auc_6: 0.9509\n",
      "loss: 0.7582792639732361\n",
      "accuracy: 0.7368420958518982\n",
      "AUC Score: 0.950880765914917\n"
     ]
    }
   ],
   "source": [
    "loss,accuracy,auc = model.evaluate(test_data)\n",
    "\n",
    "print(\"loss: {}\".format(loss))\n",
    "print(\"accuracy: {}\".format(accuracy))\n",
    "print(\"AUC Score: {}\".format(auc))"
   ]
  },
  {
   "cell_type": "code",
   "execution_count": 119,
   "metadata": {},
   "outputs": [
    {
     "data": {
      "image/png": "[encoded data removed]",
      "text/plain": [
       "<Figure size 432x288 with 1 Axes>"
      ]
     },
     "metadata": {
      "needs_background": "light"
     },
     "output_type": "display_data"
    }
   ],
   "source": [
    "plt.plot(history.history['accuracy'])\n",
    "plt.plot(history.history['val_accuracy'])\n",
    "plt.title('Model Accuracy')\n",
    "plt.ylabel('Accuracy')\n",
    "plt.xlabel('Epoch')\n",
    "plt.legend(['Train Accuracy', 'Test Accuracy'], loc='upper left')\n",
    "plt.show()"
   ]
  },
  {
   "cell_type": "code",
   "execution_count": 120,
   "metadata": {},
   "outputs": [
    {
     "data": {
      "image/png": "[encoded data removed]",
      "text/plain": [
       "<Figure size 432x288 with 1 Axes>"
      ]
     },
     "metadata": {
      "needs_background": "light"
     },
     "output_type": "display_data"
    }
   ],
   "source": [
    "plt.plot(history.history['loss'])\n",
    "plt.plot(history.history['val_loss'])\n",
    "plt.title('Model Loss')\n",
    "plt.ylabel('Loss')\n",
    "plt.xlabel('Epoch')\n",
    "plt.legend(['Train Loss', 'Test Loss'], loc='upper left')\n",
    "plt.show()"
   ]
  },
  {
   "cell_type": "code",
   "execution_count": null,
   "metadata": {
    "id": "oelRoQOAE8E2"
   },
   "outputs": [],
   "source": [
    "# cnn.save('/content/drive/MyDrive/Capstone Project/Saved Models/first_model.h5')"
   ]
  },
  {
   "cell_type": "code",
   "execution_count": null,
   "metadata": {
    "id": "phlfHDQkMo6r"
   },
   "outputs": [],
   "source": [
    "# from keras.models import load_model\n",
    "# model = load_model(\"/content/drive/MyDrive/Capstone Project/Saved Models/first_model.h5\")"
   ]
  },
  {
   "cell_type": "code",
   "execution_count": 29,
   "metadata": {},
   "outputs": [],
   "source": []
  }
 ],
 "metadata": {
  "accelerator": "GPU",
  "colab": {
   "name": "SKIN_DISEASE_PREDICTION_Anshuman.ipynb",
   "provenance": []
  },
  "kernelspec": {
   "display_name": "Python 3",
   "language": "python",
   "name": "python3"
  },
  "language_info": {
   "codemirror_mode": {
    "name": "ipython",
    "version": 3
   },
   "file_extension": ".py",
   "mimetype": "text/x-python",
   "name": "python",
   "nbconvert_exporter": "python",
   "pygments_lexer": "ipython3",
   "version": "3.9.5"
  }
 },
 "nbformat": 4,
 "nbformat_minor": 1
}
