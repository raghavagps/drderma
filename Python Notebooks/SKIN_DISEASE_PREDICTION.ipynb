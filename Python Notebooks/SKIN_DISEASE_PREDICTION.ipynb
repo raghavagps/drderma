{
  "nbformat": 4,
  "nbformat_minor": 0,
  "metadata": {
    "colab": {
      "name": "SKIN_DISEASE_PREDICTION.ipynb",
      "provenance": []
    },
    "kernelspec": {
      "name": "python3",
      "display_name": "Python 3"
    },
    "language_info": {
      "name": "python"
    }
  },
  "cells": [
    {
      "cell_type": "markdown",
      "metadata": {
        "id": "U7j5B2r_ZBxT"
      },
      "source": [
        "#Import Statements"
      ]
    },
    {
      "cell_type": "code",
      "metadata": {
        "id": "EsteEwFALyTR"
      },
      "source": [
        "import pandas as pd\n",
        "import numpy as np\n",
        "import os\n",
        "from tqdm import tqdm\n",
        "import tensorflow as tf\n",
        "from keras.preprocessing.image import ImageDataGenerator\n",
        "from PIL import Image\n",
        "from sklearn.preprocessing import LabelEncoder"
      ],
      "execution_count": 1,
      "outputs": []
    },
    {
      "cell_type": "markdown",
      "metadata": {
        "id": "BbfScvB-ZGEq"
      },
      "source": [
        "#Reading the Metadata"
      ]
    },
    {
      "cell_type": "code",
      "metadata": {
        "id": "5C_WHJdgOA0Q"
      },
      "source": [
        "root = \"/content/drive/MyDrive/Capstone Project/Complete Dataset/\""
      ],
      "execution_count": 2,
      "outputs": []
    },
    {
      "cell_type": "code",
      "metadata": {
        "id": "_TdieB7DTOwZ"
      },
      "source": [
        "metadata = pd.read_csv(root+\"HAM10000_metadata\")"
      ],
      "execution_count": 3,
      "outputs": []
    },
    {
      "cell_type": "code",
      "metadata": {
        "colab": {
          "base_uri": "https://localhost:8080/"
        },
        "id": "iluDKKrKSKdg",
        "outputId": "0d8a170b-3b1c-419e-c5d0-7eecf4d594ec"
      },
      "source": [
        "metadata['dx'].value_counts()"
      ],
      "execution_count": 4,
      "outputs": [
        {
          "output_type": "execute_result",
          "data": {
            "text/plain": [
              "nv       6705\n",
              "mel      1113\n",
              "bkl      1099\n",
              "bcc       514\n",
              "akiec     327\n",
              "vasc      142\n",
              "df        115\n",
              "Name: dx, dtype: int64"
            ]
          },
          "metadata": {
            "tags": []
          },
          "execution_count": 4
        }
      ]
    },
    {
      "cell_type": "code",
      "metadata": {
        "id": "GR_A-RIEnnmJ"
      },
      "source": [
        "le = LabelEncoder()"
      ],
      "execution_count": 5,
      "outputs": []
    },
    {
      "cell_type": "code",
      "metadata": {
        "colab": {
          "base_uri": "https://localhost:8080/"
        },
        "id": "bGPMGQdVnq3F",
        "outputId": "b607d109-f935-4af3-86a2-15b251cfd403"
      },
      "source": [
        "le.fit(metadata['dx'])"
      ],
      "execution_count": 6,
      "outputs": [
        {
          "output_type": "execute_result",
          "data": {
            "text/plain": [
              "LabelEncoder()"
            ]
          },
          "metadata": {
            "tags": []
          },
          "execution_count": 6
        }
      ]
    },
    {
      "cell_type": "code",
      "metadata": {
        "id": "49czVKnhnqsQ"
      },
      "source": [
        "metadata['class_label']=le.transform(metadata['dx'])"
      ],
      "execution_count": 7,
      "outputs": []
    },
    {
      "cell_type": "code",
      "metadata": {
        "colab": {
          "base_uri": "https://localhost:8080/"
        },
        "id": "u26sYeiio47V",
        "outputId": "bfbf3879-66f8-48a1-c598-5dc5756a76c4"
      },
      "source": [
        "metadata['class_label'].value_counts()"
      ],
      "execution_count": 8,
      "outputs": [
        {
          "output_type": "execute_result",
          "data": {
            "text/plain": [
              "5    6705\n",
              "4    1113\n",
              "2    1099\n",
              "1     514\n",
              "0     327\n",
              "6     142\n",
              "3     115\n",
              "Name: class_label, dtype: int64"
            ]
          },
          "metadata": {
            "tags": []
          },
          "execution_count": 8
        }
      ]
    },
    {
      "cell_type": "markdown",
      "metadata": {
        "id": "Ljgpv05ZfzqY"
      },
      "source": [
        "#Organising The Dataset"
      ]
    },
    {
      "cell_type": "code",
      "metadata": {
        "id": "7sqz1wobc76r"
      },
      "source": [
        "# classes=metadata['dx'].unique().tolist()"
      ],
      "execution_count": 9,
      "outputs": []
    },
    {
      "cell_type": "code",
      "metadata": {
        "id": "3lJsBVC5chcI"
      },
      "source": [
        "# import shutil"
      ],
      "execution_count": 10,
      "outputs": []
    },
    {
      "cell_type": "code",
      "metadata": {
        "id": "m7ToE5aVi3fV"
      },
      "source": [
        "# source_dir=\"/content/drive/MyDrive/Capstone Project/Complete Dataset/HAM10000_all_images/\"\n",
        "# dest_dir=\"/content/drive/MyDrive/Capstone Project/Complete Dataset/Class Wise Organised Images/\""
      ],
      "execution_count": 11,
      "outputs": []
    },
    {
      "cell_type": "code",
      "metadata": {
        "id": "EU_5N1qld_gp"
      },
      "source": [
        "# class_images=[]\n",
        "# for i in tqdm(classes,):\n",
        "#   if not os.path.exists(dest_dir + str(i) + \"/\"): \n",
        "#     os.mkdir(dest_dir + str(i) + \"/\")\n",
        "#   image_ids = metadata[metadata['dx'] == i]['image_id']\n",
        "#   class_images.extend(image_ids)\n",
        "#   for id in tqdm(class_images):\n",
        "#     if os.path.exists(dest_dir + i + \"/\"+id+\".jpg\"):\n",
        "#       continue\n",
        "#     else:\n",
        "#       shutil.copyfile((source_dir + \"/\"+ id +\".jpg\"), (dest_dir + i + \"/\"+id+\".jpg\"))\n",
        "#   class_images=[] "
      ],
      "execution_count": 12,
      "outputs": []
    },
    {
      "cell_type": "code",
      "metadata": {
        "id": "7WNxaCc4S98I"
      },
      "source": [
        "# from PIL import Image as PImage\n",
        "# def loadImages(root_path):\n",
        "#   imagesList_1 = os.listdir(root_path + \"HAM10000_images_part_1\")\n",
        "#   imagesList_2 = os.listdir(root_path + \"HAM10000_images_part_2\")\n",
        "#   loadedImages = []\n",
        "#   for image in imagesList_1:\n",
        "#       img = PImage.open(root_path + \"HAM10000_images_part_1\" + \"/\" + image)\n",
        "#       loadedImages.append(img)\n",
        "#   for image in imagesList_2:\n",
        "#       img = PImage.open(root_path + \"HAM10000_images_part_2\" + \"/\" + image)\n",
        "#       loadedImages.append(img)\n",
        "#   return loadedImages"
      ],
      "execution_count": 13,
      "outputs": []
    },
    {
      "cell_type": "markdown",
      "metadata": {
        "id": "lekprLVHax54"
      },
      "source": [
        "#Build A Model"
      ]
    },
    {
      "cell_type": "markdown",
      "metadata": {
        "id": "7-r946OCa3_d"
      },
      "source": [
        "##Preprocessing"
      ]
    },
    {
      "cell_type": "code",
      "metadata": {
        "id": "JE815ffda66Q"
      },
      "source": [
        "train_datagen = ImageDataGenerator(rescale= 1./255,shear_range=0.2,zoom_range=0.2,horizontal_flip=True)"
      ],
      "execution_count": 31,
      "outputs": []
    },
    {
      "cell_type": "code",
      "metadata": {
        "id": "BF8JO6mGbYzP"
      },
      "source": [
        "test_datagen = ImageDataGenerator(rescale=1./255)"
      ],
      "execution_count": 32,
      "outputs": []
    },
    {
      "cell_type": "code",
      "metadata": {
        "colab": {
          "base_uri": "https://localhost:8080/"
        },
        "id": "Ju6n_3m9bgUn",
        "outputId": "b81517a1-c794-44b0-89e4-936ac353ff80"
      },
      "source": [
        "train_data = train_datagen.flow_from_directory(\"/content/drive/MyDrive/Capstone Project/Complete Dataset/Test_Val_Train Split/train\",target_size=(32,32),batch_size=16,class_mode='categorical')"
      ],
      "execution_count": 33,
      "outputs": [
        {
          "output_type": "stream",
          "text": [
            "Found 8010 images belonging to 7 classes.\n"
          ],
          "name": "stdout"
        }
      ]
    },
    {
      "cell_type": "code",
      "metadata": {
        "colab": {
          "base_uri": "https://localhost:8080/"
        },
        "id": "O0IIuLhpb1f9",
        "outputId": "e3d311e4-16de-4134-b65d-1c12ab68b96c"
      },
      "source": [
        "test_data = test_datagen.flow_from_directory(\"/content/drive/MyDrive/Capstone Project/Complete Dataset/Test_Val_Train Split/test\",target_size=(32,32),batch_size=32,class_mode='categorical')"
      ],
      "execution_count": 34,
      "outputs": [
        {
          "output_type": "stream",
          "text": [
            "Found 1007 images belonging to 7 classes.\n"
          ],
          "name": "stdout"
        }
      ]
    },
    {
      "cell_type": "markdown",
      "metadata": {
        "id": "7eKAdFwLeUw_"
      },
      "source": [
        "##Building The CNN"
      ]
    },
    {
      "cell_type": "code",
      "metadata": {
        "id": "VjHmHrbxcfSb"
      },
      "source": [
        "cnn = tf.keras.models.Sequential()"
      ],
      "execution_count": 96,
      "outputs": []
    },
    {
      "cell_type": "code",
      "metadata": {
        "id": "pQRSXIZaee2q"
      },
      "source": [
        "cnn.add(tf.keras.layers.Conv2D(filters=32, kernel_size=3, activation='relu', input_shape=[32, 32, 3]))"
      ],
      "execution_count": 97,
      "outputs": []
    },
    {
      "cell_type": "code",
      "metadata": {
        "id": "WN5nCyIWgWU7"
      },
      "source": [
        "cnn.add(tf.keras.layers.MaxPool2D(pool_size=2, strides=2))"
      ],
      "execution_count": 98,
      "outputs": []
    },
    {
      "cell_type": "code",
      "metadata": {
        "id": "THEA2EbtgY8F"
      },
      "source": [
        "cnn.add(tf.keras.layers.Conv2D(filters=32, kernel_size=3, activation='relu'))\n",
        "cnn.add(tf.keras.layers.MaxPool2D(pool_size=2, strides=2))"
      ],
      "execution_count": 99,
      "outputs": []
    },
    {
      "cell_type": "code",
      "metadata": {
        "id": "0ybm3z0GgeQi"
      },
      "source": [
        "cnn.add(tf.keras.layers.Flatten())"
      ],
      "execution_count": 100,
      "outputs": []
    },
    {
      "cell_type": "code",
      "metadata": {
        "id": "rGnG_zWQggc4"
      },
      "source": [
        "cnn.add(tf.keras.layers.Dense(units=128, activation='relu'))"
      ],
      "execution_count": 101,
      "outputs": []
    },
    {
      "cell_type": "code",
      "metadata": {
        "id": "457FDA5Bgiqi"
      },
      "source": [
        "cnn.add(tf.keras.layers.Dense(units=7, activation='sigmoid'))"
      ],
      "execution_count": 102,
      "outputs": []
    },
    {
      "cell_type": "code",
      "metadata": {
        "id": "QmVdVy8-gnPM"
      },
      "source": [
        "cnn.compile(optimizer = 'adam', loss = 'categorical_crossentropy', metrics = ['accuracy'],)"
      ],
      "execution_count": 103,
      "outputs": []
    },
    {
      "cell_type": "code",
      "metadata": {
        "colab": {
          "base_uri": "https://localhost:8080/"
        },
        "id": "iiGGw7y-nXXM",
        "outputId": "3583299a-7228-44f8-edd0-253e09b19333"
      },
      "source": [
        "cnn.fit(x=train_data,validation_data=test_data,epochs = 25)"
      ],
      "execution_count": 104,
      "outputs": [
        {
          "output_type": "stream",
          "text": [
            "Epoch 1/25\n",
            "501/501 [==============================] - 3455s 7s/step - loss: 0.9735 - accuracy: 0.6688 - val_loss: 0.9178 - val_accuracy: 0.6703\n",
            "Epoch 2/25\n",
            "501/501 [==============================] - 131s 261ms/step - loss: 0.8909 - accuracy: 0.6792 - val_loss: 0.8520 - val_accuracy: 0.6852\n",
            "Epoch 3/25\n",
            "501/501 [==============================] - 115s 229ms/step - loss: 0.8488 - accuracy: 0.6909 - val_loss: 0.8651 - val_accuracy: 0.6783\n",
            "Epoch 4/25\n",
            "501/501 [==============================] - 115s 229ms/step - loss: 0.8070 - accuracy: 0.7021 - val_loss: 0.7914 - val_accuracy: 0.6951\n",
            "Epoch 5/25\n",
            "501/501 [==============================] - 110s 219ms/step - loss: 0.7692 - accuracy: 0.7161 - val_loss: 0.7624 - val_accuracy: 0.7140\n",
            "Epoch 6/25\n",
            "501/501 [==============================] - 116s 231ms/step - loss: 0.7333 - accuracy: 0.7248 - val_loss: 0.7312 - val_accuracy: 0.7269\n",
            "Epoch 7/25\n",
            "501/501 [==============================] - 120s 240ms/step - loss: 0.7279 - accuracy: 0.7272 - val_loss: 0.7892 - val_accuracy: 0.7150\n",
            "Epoch 8/25\n",
            "501/501 [==============================] - 111s 221ms/step - loss: 0.7050 - accuracy: 0.7378 - val_loss: 0.6978 - val_accuracy: 0.7339\n",
            "Epoch 9/25\n",
            "501/501 [==============================] - 110s 220ms/step - loss: 0.7002 - accuracy: 0.7362 - val_loss: 0.7230 - val_accuracy: 0.7190\n",
            "Epoch 10/25\n",
            "501/501 [==============================] - 118s 235ms/step - loss: 0.6865 - accuracy: 0.7466 - val_loss: 0.7326 - val_accuracy: 0.7239\n",
            "Epoch 11/25\n",
            "501/501 [==============================] - 126s 252ms/step - loss: 0.6718 - accuracy: 0.7471 - val_loss: 0.7338 - val_accuracy: 0.7428\n",
            "Epoch 12/25\n",
            "501/501 [==============================] - 118s 236ms/step - loss: 0.6602 - accuracy: 0.7478 - val_loss: 0.7094 - val_accuracy: 0.7368\n",
            "Epoch 13/25\n",
            "501/501 [==============================] - 119s 238ms/step - loss: 0.6648 - accuracy: 0.7539 - val_loss: 0.6895 - val_accuracy: 0.7329\n",
            "Epoch 14/25\n",
            "501/501 [==============================] - 120s 240ms/step - loss: 0.6481 - accuracy: 0.7517 - val_loss: 0.7172 - val_accuracy: 0.7309\n",
            "Epoch 15/25\n",
            "501/501 [==============================] - 118s 236ms/step - loss: 0.6391 - accuracy: 0.7587 - val_loss: 0.6812 - val_accuracy: 0.7458\n",
            "Epoch 16/25\n",
            "501/501 [==============================] - 128s 255ms/step - loss: 0.6271 - accuracy: 0.7644 - val_loss: 0.6846 - val_accuracy: 0.7358\n",
            "Epoch 17/25\n",
            "501/501 [==============================] - 121s 241ms/step - loss: 0.6286 - accuracy: 0.7624 - val_loss: 0.6625 - val_accuracy: 0.7388\n",
            "Epoch 18/25\n",
            "501/501 [==============================] - 121s 242ms/step - loss: 0.6137 - accuracy: 0.7678 - val_loss: 0.6629 - val_accuracy: 0.7458\n",
            "Epoch 19/25\n",
            "501/501 [==============================] - 120s 240ms/step - loss: 0.6035 - accuracy: 0.7714 - val_loss: 0.7057 - val_accuracy: 0.7299\n",
            "Epoch 20/25\n",
            "501/501 [==============================] - 118s 235ms/step - loss: 0.5995 - accuracy: 0.7754 - val_loss: 0.6471 - val_accuracy: 0.7527\n",
            "Epoch 21/25\n",
            "501/501 [==============================] - 132s 263ms/step - loss: 0.5932 - accuracy: 0.7732 - val_loss: 0.6886 - val_accuracy: 0.7299\n",
            "Epoch 22/25\n",
            "501/501 [==============================] - 118s 235ms/step - loss: 0.5773 - accuracy: 0.7844 - val_loss: 0.6836 - val_accuracy: 0.7547\n",
            "Epoch 23/25\n",
            "501/501 [==============================] - 117s 234ms/step - loss: 0.5669 - accuracy: 0.7821 - val_loss: 0.6830 - val_accuracy: 0.7458\n",
            "Epoch 24/25\n",
            "501/501 [==============================] - 112s 224ms/step - loss: 0.5688 - accuracy: 0.7810 - val_loss: 0.6934 - val_accuracy: 0.7458\n",
            "Epoch 25/25\n",
            "501/501 [==============================] - 114s 227ms/step - loss: 0.5622 - accuracy: 0.7891 - val_loss: 0.6803 - val_accuracy: 0.7468\n"
          ],
          "name": "stdout"
        },
        {
          "output_type": "execute_result",
          "data": {
            "text/plain": [
              "<tensorflow.python.keras.callbacks.History at 0x7fbd430b5c90>"
            ]
          },
          "metadata": {
            "tags": []
          },
          "execution_count": 104
        }
      ]
    },
    {
      "cell_type": "code",
      "metadata": {
        "id": "oelRoQOAE8E2"
      },
      "source": [
        "cnn.save('/content/drive/MyDrive/Capstone Project/Saved Models/first_model.h5')"
      ],
      "execution_count": 105,
      "outputs": []
    }
  ]
}