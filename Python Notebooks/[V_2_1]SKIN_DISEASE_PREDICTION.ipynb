{
 "cells": [
  {
   "cell_type": "markdown",
   "metadata": {
    "id": "U7j5B2r_ZBxT"
   },
   "source": [
    "# Import Statements"
   ]
  },
  {
   "cell_type": "code",
   "execution_count": 1,
   "metadata": {
    "id": "EsteEwFALyTR"
   },
   "outputs": [],
   "source": [
    "import pandas as pd\n",
    "import numpy as np\n",
    "import os\n",
    "from tqdm import tqdm\n",
    "import math\n",
    "import tensorflow as tf\n",
    "from tensorflow.keras.preprocessing.image import ImageDataGenerator\n",
    "from PIL import Image\n",
    "from sklearn.preprocessing import LabelEncoder\n",
    "import PIL\n",
    "import matplotlib.pyplot as plt\n",
    "import glob"
   ]
  },
  {
   "cell_type": "markdown",
   "metadata": {
    "id": "BbfScvB-ZGEq"
   },
   "source": [
    "# Reading the Metadata"
   ]
  },
  {
   "cell_type": "code",
   "execution_count": 2,
   "metadata": {
    "id": "5C_WHJdgOA0Q"
   },
   "outputs": [],
   "source": [
    "root = \"D:\\IIIT-D\\Summer Semester\\CAPSTONE PROJECT\\Complete Dataset\""
   ]
  },
  {
   "cell_type": "code",
   "execution_count": 3,
   "metadata": {
    "id": "_TdieB7DTOwZ"
   },
   "outputs": [],
   "source": [
    "metadata = pd.read_csv(root+\"\\HAM10000_metadata\")"
   ]
  },
  {
   "cell_type": "code",
   "execution_count": 4,
   "metadata": {
    "colab": {
     "base_uri": "https://localhost:8080/"
    },
    "id": "iluDKKrKSKdg",
    "outputId": "712a0154-533e-4764-e43e-1740b9c92608"
   },
   "outputs": [
    {
     "data": {
      "text/plain": [
       "nv       6705\n",
       "mel      1113\n",
       "bkl      1099\n",
       "bcc       514\n",
       "akiec     327\n",
       "vasc      142\n",
       "df        115\n",
       "Name: dx, dtype: int64"
      ]
     },
     "execution_count": 4,
     "metadata": {},
     "output_type": "execute_result"
    }
   ],
   "source": [
    "metadata['dx'].value_counts()"
   ]
  },
  {
   "cell_type": "code",
   "execution_count": 5,
   "metadata": {
    "id": "GR_A-RIEnnmJ"
   },
   "outputs": [],
   "source": [
    "le = LabelEncoder()"
   ]
  },
  {
   "cell_type": "code",
   "execution_count": 6,
   "metadata": {
    "colab": {
     "base_uri": "https://localhost:8080/"
    },
    "id": "bGPMGQdVnq3F",
    "outputId": "d79e5d2c-8232-4b2c-9847-fb379827090b"
   },
   "outputs": [
    {
     "data": {
      "text/plain": [
       "LabelEncoder()"
      ]
     },
     "execution_count": 6,
     "metadata": {},
     "output_type": "execute_result"
    }
   ],
   "source": [
    "le.fit(metadata['dx'])"
   ]
  },
  {
   "cell_type": "code",
   "execution_count": 7,
   "metadata": {
    "id": "49czVKnhnqsQ"
   },
   "outputs": [],
   "source": [
    "metadata['class_label']=le.transform(metadata['dx'])"
   ]
  },
  {
   "cell_type": "code",
   "execution_count": 8,
   "metadata": {
    "colab": {
     "base_uri": "https://localhost:8080/"
    },
    "id": "u26sYeiio47V",
    "outputId": "2e365d31-e662-4b41-b0a1-ae7b76e947db"
   },
   "outputs": [
    {
     "data": {
      "text/plain": [
       "5    6705\n",
       "4    1113\n",
       "2    1099\n",
       "1     514\n",
       "0     327\n",
       "6     142\n",
       "3     115\n",
       "Name: class_label, dtype: int64"
      ]
     },
     "execution_count": 8,
     "metadata": {},
     "output_type": "execute_result"
    }
   ],
   "source": [
    "metadata['class_label'].value_counts()"
   ]
  },
  {
   "cell_type": "markdown",
   "metadata": {
    "id": "Ljgpv05ZfzqY"
   },
   "source": [
    "# Organising The Dataset"
   ]
  },
  {
   "cell_type": "code",
   "execution_count": 9,
   "metadata": {
    "id": "7sqz1wobc76r"
   },
   "outputs": [],
   "source": [
    "# classes=metadata['dx'].unique().tolist()"
   ]
  },
  {
   "cell_type": "code",
   "execution_count": 10,
   "metadata": {
    "id": "3lJsBVC5chcI"
   },
   "outputs": [],
   "source": [
    "# import shutil"
   ]
  },
  {
   "cell_type": "code",
   "execution_count": 11,
   "metadata": {
    "id": "m7ToE5aVi3fV"
   },
   "outputs": [],
   "source": [
    "# source_dir=\"D:\\IIIT-D\\Summer Semester\\CAPSTONE PROJECT\\Complete Dataset\\HAM10000_all_images\"\n",
    "# dest_dir=\"D:/IIIT-D/Summer Semester/CAPSTONE PROJECT/Complete Dataset/Class Wise Organised Images/\""
   ]
  },
  {
   "cell_type": "code",
   "execution_count": 12,
   "metadata": {
    "id": "EU_5N1qld_gp"
   },
   "outputs": [],
   "source": [
    "# class_images=[]\n",
    "# for i in tqdm(classes,):\n",
    "#   if not os.path.exists(dest_dir + str(i) + \"/\"): \n",
    "#     os.mkdir(dest_dir + str(i) + \"/\")\n",
    "#   image_ids = metadata[metadata['dx'] == i]['image_id']\n",
    "#   class_images.extend(image_ids)\n",
    "#   for id in tqdm(class_images):\n",
    "#     if os.path.exists(dest_dir + i + \"/\"+id+\".jpg\"):\n",
    "#       continue\n",
    "#     else:\n",
    "#       shutil.copyfile((source_dir + \"/\"+ id +\".jpg\"), (dest_dir + i + \"/\"+id+\".jpg\"))\n",
    "#   class_images=[] "
   ]
  },
  {
   "cell_type": "markdown",
   "metadata": {
    "id": "5Dkr4bt97Smn"
   },
   "source": [
    "# Train Test Split "
   ]
  },
  {
   "cell_type": "code",
   "execution_count": 13,
   "metadata": {
    "id": "DgyB2gFj7Smn"
   },
   "outputs": [],
   "source": [
    "# !pip install split-folders tqdm"
   ]
  },
  {
   "cell_type": "code",
   "execution_count": 14,
   "metadata": {
    "id": "NfjTZyKS7Smo"
   },
   "outputs": [],
   "source": [
    "# import splitfolders\n",
    "# input_folder = root+'/Class Wise Organised Images'\n",
    "# output_folder = root+'/Train_Val_Test_Split'\n",
    "# splitfolders.ratio(input=input_folder, output=output_folder, seed=1337, ratio=(.8, .1, .1), group_prefix=None)"
   ]
  },
  {
   "cell_type": "markdown",
   "metadata": {
    "id": "lekprLVHax54"
   },
   "source": [
    "# Build A Model"
   ]
  },
  {
   "cell_type": "markdown",
   "metadata": {
    "id": "7-r946OCa3_d"
   },
   "source": [
    "## Preprocessing"
   ]
  },
  {
   "cell_type": "code",
   "execution_count": 15,
   "metadata": {
    "id": "JE815ffda66Q"
   },
   "outputs": [],
   "source": [
    "train_datagen = ImageDataGenerator(rescale= 1./255,\n",
    "                                   featurewise_center=False,  # set input mean to 0 over the dataset\n",
    "                                   samplewise_center=False,  # set each sample mean to 0\n",
    "                                   featurewise_std_normalization=False,  # divide inputs by std of the dataset\n",
    "                                   samplewise_std_normalization=False,  # divide each input by its std\n",
    "                                   zca_whitening=False,  # apply ZCA whitening\n",
    "                                   rotation_range=90,  # randomly rotate images in the range (degrees, 0 to 180)\n",
    "                                   zoom_range = 0.1, # Randomly zoom image \n",
    "                                   width_shift_range=0.1,  # randomly shift images horizontally (fraction of total width)\n",
    "                                   height_shift_range=0.1,  # randomly shift images vertically (fraction of total height)\n",
    "                                   horizontal_flip=True,  # randomly flip images\n",
    "                                   vertical_flip=True,  # randomly flip images\n",
    "                                   shear_range = 10)"
   ]
  },
  {
   "cell_type": "code",
   "execution_count": 16,
   "metadata": {
    "id": "BF8JO6mGbYzP"
   },
   "outputs": [],
   "source": [
    "test_datagen = ImageDataGenerator(rescale=1./255)"
   ]
  },
  {
   "cell_type": "code",
   "execution_count": 17,
   "metadata": {
    "colab": {
     "base_uri": "https://localhost:8080/"
    },
    "id": "Ju6n_3m9bgUn",
    "outputId": "3459b945-c505-44a3-d34e-c1ee4e71512e"
   },
   "outputs": [
    {
     "name": "stdout",
     "output_type": "stream",
     "text": [
      "Found 8010 images belonging to 7 classes.\n"
     ]
    }
   ],
   "source": [
    "train_data = train_datagen.flow_from_directory(root+\"/Hair Removed Images/train\",target_size=(64,64),batch_size=32,class_mode='categorical')"
   ]
  },
  {
   "cell_type": "code",
   "execution_count": 18,
   "metadata": {
    "colab": {
     "base_uri": "https://localhost:8080/"
    },
    "id": "O0IIuLhpb1f9",
    "outputId": "a0c13126-080a-4e58-e3e6-2436d700a7f3"
   },
   "outputs": [
    {
     "name": "stdout",
     "output_type": "stream",
     "text": [
      "Found 1000 images belonging to 7 classes.\n"
     ]
    }
   ],
   "source": [
    "val_data = test_datagen.flow_from_directory(root+\"/Hair Removed Images/val\",target_size=(64,64),batch_size=32,class_mode='categorical')"
   ]
  },
  {
   "cell_type": "code",
   "execution_count": 19,
   "metadata": {
    "colab": {
     "base_uri": "https://localhost:8080/"
    },
    "id": "ZlfSJ7GU7Sms",
    "outputId": "6b7b7123-86d2-4507-a82f-00c57bc646fa"
   },
   "outputs": [
    {
     "name": "stdout",
     "output_type": "stream",
     "text": [
      "Found 1007 images belonging to 7 classes.\n"
     ]
    }
   ],
   "source": [
    "test_data = test_datagen.flow_from_directory(root+\"/Hair Removed Images/test\",target_size=(64,64),batch_size=32,class_mode='categorical')"
   ]
  },
  {
   "cell_type": "markdown",
   "metadata": {
    "id": "gs-F06Zm9CYf"
   },
   "source": [
    "### **ResNet50 Model with class weights**"
   ]
  },
  {
   "cell_type": "code",
   "execution_count": 20,
   "metadata": {
    "colab": {
     "base_uri": "https://localhost:8080/"
    },
    "id": "HN_nXylj53rI",
    "outputId": "fe2439c8-d7ee-44c8-f515-d247265800a0"
   },
   "outputs": [
    {
     "name": "stdout",
     "output_type": "stream",
     "text": [
      "akiec : 1.5718654434250765\n",
      "bcc : 1.0\n",
      "bkl : 0.467697907188353\n",
      "df : 4.469565217391304\n",
      "mel : 0.4618149146451033\n",
      "nv : 0.07665920954511558\n",
      "vasc : 3.619718309859155\n"
     ]
    }
   ],
   "source": [
    "label = [ 'akiec', 'bcc','bkl','df','mel', 'nv',  'vasc']\n",
    "\n",
    "def estimate_weights_mfb(label):\n",
    "    class_weights = np.zeros_like(label, dtype=np.float)\n",
    "    counts = np.zeros_like(label)\n",
    "    for i,l in enumerate(label):\n",
    "        counts[i] = metadata[metadata['dx']==str(l)]['dx'].value_counts()[0]\n",
    "    counts = counts.astype(np.float)\n",
    "    #print(counts)\n",
    "    median_freq = np.median(counts)\n",
    "    #print(median_freq)\n",
    "    #print(weights.shape)\n",
    "    for i, label in enumerate(label):\n",
    "        #print(label)\n",
    "        class_weights[i] = median_freq / counts[i]\n",
    "    return class_weights\n",
    "\n",
    "classweight= estimate_weights_mfb(label)\n",
    "\n",
    "for i in range(len(label)):\n",
    "    print(label[i],\":\", classweight[i])"
   ]
  },
  {
   "cell_type": "code",
   "execution_count": 21,
   "metadata": {
    "colab": {
     "base_uri": "https://localhost:8080/"
    },
    "id": "2TVWa9Hj4erH",
    "outputId": "0c072056-beff-49e9-a73b-dae3bf09eda8"
   },
   "outputs": [
    {
     "name": "stdout",
     "output_type": "stream",
     "text": [
      "Model: \"sequential_1\"\n",
      "_________________________________________________________________\n",
      "Layer (type)                 Output Shape              Param #   \n",
      "=================================================================\n",
      "resnet50 (Functional)        (None, 2048)              23587712  \n",
      "_________________________________________________________________\n",
      "dropout (Dropout)            (None, 2048)              0         \n",
      "_________________________________________________________________\n",
      "dense (Dense)                (None, 128)               262272    \n",
      "_________________________________________________________________\n",
      "dropout_1 (Dropout)          (None, 128)               0         \n",
      "_________________________________________________________________\n",
      "dense_1 (Dense)              (None, 7)                 903       \n",
      "=================================================================\n",
      "Total params: 23,850,887\n",
      "Trainable params: 23,797,767\n",
      "Non-trainable params: 53,120\n",
      "_________________________________________________________________\n"
     ]
    }
   ],
   "source": [
    "from tensorflow.keras.applications import ResNet50\n",
    "from tensorflow.python.keras.models import Sequential\n",
    "from tensorflow.python.keras.layers import Dense, Dropout\n",
    "from tensorflow.keras import regularizers\n",
    "import numpy as np\n",
    "\n",
    "model = Sequential()\n",
    "num_labels = 7\n",
    "\n",
    "base_model = ResNet50(include_top=False, input_shape=(32, 32, 3),pooling = 'avg', weights = 'imagenet')\n",
    "model = Sequential()\n",
    "model.add(base_model)\n",
    "model.add(Dropout(0.5))\n",
    "model.add(Dense(128, activation=\"relu\"))\n",
    "model.add(Dropout(0.5))\n",
    "model.add(Dense(num_labels, activation = 'softmax',))\n",
    "\n",
    "model.summary()"
   ]
  },
  {
   "cell_type": "code",
   "execution_count": 22,
   "metadata": {
    "id": "AEEaeOCX5rDI"
   },
   "outputs": [],
   "source": [
    "from tensorflow.keras.callbacks import ReduceLROnPlateau ,EarlyStopping\n",
    "from tensorflow.keras.optimizers import Adam\n",
    "optimizer = Adam (learning_rate=1e-5)\n",
    "model.compile(optimizer = optimizer , loss = \"categorical_crossentropy\", metrics=[\"accuracy\",tf.keras.metrics.AUC(curve='ROC')])"
   ]
  },
  {
   "cell_type": "code",
   "execution_count": 24,
   "metadata": {
    "colab": {
     "base_uri": "https://localhost:8080/",
     "height": 430
    },
    "id": "Q_lCKa5r6R8f",
    "outputId": "5a568bbe-b309-4a03-bcd0-a1173f650434",
    "scrolled": false
   },
   "outputs": [
    {
     "name": "stdout",
     "output_type": "stream",
     "text": [
      "Epoch 1/150\n",
      "251/251 [==============================] - 87s 319ms/step - loss: 1.2609 - accuracy: 0.2481 - auc: 0.6216 - val_loss: 26.4346 - val_accuracy: 0.0110 - val_auc: 0.4231\n",
      "Epoch 2/150\n",
      "251/251 [==============================] - 28s 110ms/step - loss: 1.0639 - accuracy: 0.2635 - auc: 0.6435 - val_loss: 44.7920 - val_accuracy: 0.0230 - val_auc: 0.4322\n",
      "Epoch 3/150\n",
      "251/251 [==============================] - 28s 111ms/step - loss: 0.8998 - accuracy: 0.3042 - auc: 0.6820 - val_loss: 8.4440 - val_accuracy: 0.1690 - val_auc: 0.6484\n",
      "Epoch 4/150\n",
      "251/251 [==============================] - 28s 110ms/step - loss: 0.8142 - accuracy: 0.3308 - auc: 0.7121 - val_loss: 1.7022 - val_accuracy: 0.3760 - val_auc: 0.7241\n",
      "Epoch 5/150\n",
      "251/251 [==============================] - 28s 110ms/step - loss: 0.7238 - accuracy: 0.3594 - auc: 0.7340 - val_loss: 1.4342 - val_accuracy: 0.4330 - val_auc: 0.8051\n",
      "Epoch 6/150\n",
      "251/251 [==============================] - 28s 110ms/step - loss: 0.6952 - accuracy: 0.3846 - auc: 0.7502 - val_loss: 1.3590 - val_accuracy: 0.4480 - val_auc: 0.8247\n",
      "Epoch 7/150\n",
      "251/251 [==============================] - 28s 110ms/step - loss: 0.6488 - accuracy: 0.3914 - auc: 0.7663 - val_loss: 1.3358 - val_accuracy: 0.4700 - val_auc: 0.8303\n",
      "Epoch 8/150\n",
      "251/251 [==============================] - 28s 110ms/step - loss: 0.6299 - accuracy: 0.4027 - auc: 0.7726 - val_loss: 1.2932 - val_accuracy: 0.4860 - val_auc: 0.8432\n",
      "Epoch 9/150\n",
      "251/251 [==============================] - 28s 112ms/step - loss: 0.6015 - accuracy: 0.4260 - auc: 0.7922 - val_loss: 1.2828 - val_accuracy: 0.4920 - val_auc: 0.8467\n",
      "Epoch 10/150\n",
      "251/251 [==============================] - 28s 111ms/step - loss: 0.5736 - accuracy: 0.4381 - auc: 0.8023 - val_loss: 1.2717 - val_accuracy: 0.4940 - val_auc: 0.8494\n",
      "Epoch 11/150\n",
      "251/251 [==============================] - 28s 111ms/step - loss: 0.5468 - accuracy: 0.4502 - auc: 0.8117 - val_loss: 1.2362 - val_accuracy: 0.5020 - val_auc: 0.8614\n",
      "Epoch 12/150\n",
      "251/251 [==============================] - 28s 111ms/step - loss: 0.5360 - accuracy: 0.4644 - auc: 0.8238 - val_loss: 1.2126 - val_accuracy: 0.5090 - val_auc: 0.8685\n",
      "Epoch 13/150\n",
      "251/251 [==============================] - 28s 110ms/step - loss: 0.5077 - accuracy: 0.4861 - auc: 0.8370 - val_loss: 1.1980 - val_accuracy: 0.5250 - val_auc: 0.8726\n",
      "Epoch 14/150\n",
      "251/251 [==============================] - 28s 110ms/step - loss: 0.4872 - accuracy: 0.5042 - auc: 0.8477 - val_loss: 1.1492 - val_accuracy: 0.5510 - val_auc: 0.8855\n",
      "Epoch 15/150\n",
      "251/251 [==============================] - 28s 110ms/step - loss: 0.4729 - accuracy: 0.5120 - auc: 0.8549 - val_loss: 1.1236 - val_accuracy: 0.5560 - val_auc: 0.8912\n",
      "Epoch 16/150\n",
      "251/251 [==============================] - 28s 109ms/step - loss: 0.4644 - accuracy: 0.5276 - auc: 0.8646 - val_loss: 1.1033 - val_accuracy: 0.5730 - val_auc: 0.8956\n",
      "Epoch 17/150\n",
      "251/251 [==============================] - 27s 109ms/step - loss: 0.4677 - accuracy: 0.5419 - auc: 0.8700 - val_loss: 1.0943 - val_accuracy: 0.5640 - val_auc: 0.8992\n",
      "Epoch 18/150\n",
      "251/251 [==============================] - 28s 109ms/step - loss: 0.4316 - accuracy: 0.5446 - auc: 0.8770 - val_loss: 1.0701 - val_accuracy: 0.5780 - val_auc: 0.9027\n",
      "Epoch 19/150\n",
      "251/251 [==============================] - 27s 109ms/step - loss: 0.4163 - accuracy: 0.5552 - auc: 0.8830 - val_loss: 1.0664 - val_accuracy: 0.5780 - val_auc: 0.9044\n",
      "Epoch 20/150\n",
      "251/251 [==============================] - 28s 109ms/step - loss: 0.4128 - accuracy: 0.5748 - auc: 0.8901 - val_loss: 1.0319 - val_accuracy: 0.5970 - val_auc: 0.9112\n",
      "Epoch 21/150\n",
      "251/251 [==============================] - 28s 109ms/step - loss: 0.3986 - accuracy: 0.5843 - auc: 0.8950 - val_loss: 1.0273 - val_accuracy: 0.6020 - val_auc: 0.9125\n",
      "Epoch 22/150\n",
      "251/251 [==============================] - 27s 109ms/step - loss: 0.3921 - accuracy: 0.5826 - auc: 0.8970 - val_loss: 1.0343 - val_accuracy: 0.5990 - val_auc: 0.9135\n",
      "Epoch 23/150\n",
      "251/251 [==============================] - 28s 111ms/step - loss: 0.3780 - accuracy: 0.5936 - auc: 0.9008 - val_loss: 0.9975 - val_accuracy: 0.6100 - val_auc: 0.9191\n",
      "Epoch 24/150\n",
      "251/251 [==============================] - 28s 110ms/step - loss: 0.3755 - accuracy: 0.5980 - auc: 0.9033 - val_loss: 1.0039 - val_accuracy: 0.6120 - val_auc: 0.9186\n",
      "Epoch 25/150\n",
      "251/251 [==============================] - 38s 145ms/step - loss: 0.3554 - accuracy: 0.6067 - auc: 0.9095 - val_loss: 0.9967 - val_accuracy: 0.6210 - val_auc: 0.9192\n",
      "Epoch 26/150\n",
      "251/251 [==============================] - 35s 140ms/step - loss: 0.3680 - accuracy: 0.6012 - auc: 0.9064 - val_loss: 0.9760 - val_accuracy: 0.6310 - val_auc: 0.9216\n",
      "Epoch 27/150\n",
      "251/251 [==============================] - 35s 139ms/step - loss: 0.3488 - accuracy: 0.6300 - auc: 0.9176 - val_loss: 0.9259 - val_accuracy: 0.6390 - val_auc: 0.9301\n",
      "Epoch 28/150\n",
      "251/251 [==============================] - 35s 139ms/step - loss: 0.3439 - accuracy: 0.6327 - auc: 0.9183 - val_loss: 0.9170 - val_accuracy: 0.6430 - val_auc: 0.9304\n",
      "Epoch 29/150\n",
      "251/251 [==============================] - 36s 141ms/step - loss: 0.3310 - accuracy: 0.6342 - auc: 0.9231 - val_loss: 0.8982 - val_accuracy: 0.6460 - val_auc: 0.9343\n",
      "Epoch 30/150\n",
      "251/251 [==============================] - 34s 136ms/step - loss: 0.3273 - accuracy: 0.6372 - auc: 0.9234 - val_loss: 0.9181 - val_accuracy: 0.6420 - val_auc: 0.9316\n",
      "Epoch 31/150\n",
      "251/251 [==============================] - 35s 140ms/step - loss: 0.3271 - accuracy: 0.6424 - auc: 0.9244 - val_loss: 0.8773 - val_accuracy: 0.6480 - val_auc: 0.9365\n",
      "Epoch 32/150\n",
      "251/251 [==============================] - 36s 142ms/step - loss: 0.3297 - accuracy: 0.6293 - auc: 0.9193 - val_loss: 0.9022 - val_accuracy: 0.6420 - val_auc: 0.9328\n",
      "Epoch 33/150\n",
      "251/251 [==============================] - 36s 141ms/step - loss: 0.3128 - accuracy: 0.6527 - auc: 0.9282 - val_loss: 0.8829 - val_accuracy: 0.6650 - val_auc: 0.9357\n",
      "Epoch 34/150\n",
      "251/251 [==============================] - 35s 141ms/step - loss: 0.3005 - accuracy: 0.6587 - auc: 0.9304 - val_loss: 0.8624 - val_accuracy: 0.6620 - val_auc: 0.9378\n",
      "Epoch 35/150\n",
      "251/251 [==============================] - 35s 140ms/step - loss: 0.3033 - accuracy: 0.6581 - auc: 0.9307 - val_loss: 0.8668 - val_accuracy: 0.6540 - val_auc: 0.9386\n",
      "Epoch 36/150\n",
      "251/251 [==============================] - 35s 140ms/step - loss: 0.3007 - accuracy: 0.6602 - auc: 0.9335 - val_loss: 0.8571 - val_accuracy: 0.6580 - val_auc: 0.9392\n",
      "Epoch 37/150\n",
      "251/251 [==============================] - 35s 141ms/step - loss: 0.2967 - accuracy: 0.6672 - auc: 0.9344 - val_loss: 0.8246 - val_accuracy: 0.6700 - val_auc: 0.9436\n",
      "Epoch 38/150\n",
      "251/251 [==============================] - 35s 139ms/step - loss: 0.2965 - accuracy: 0.6733 - auc: 0.9369 - val_loss: 0.8583 - val_accuracy: 0.6710 - val_auc: 0.9389\n",
      "Epoch 39/150\n",
      "251/251 [==============================] - 35s 138ms/step - loss: 0.2889 - accuracy: 0.6747 - auc: 0.9379 - val_loss: 0.8485 - val_accuracy: 0.6720 - val_auc: 0.9407\n",
      "Epoch 40/150\n",
      "251/251 [==============================] - 35s 139ms/step - loss: 0.2856 - accuracy: 0.6748 - auc: 0.9386 - val_loss: 0.7898 - val_accuracy: 0.6950 - val_auc: 0.9479\n",
      "Epoch 41/150\n",
      "251/251 [==============================] - 35s 139ms/step - loss: 0.2701 - accuracy: 0.6874 - auc: 0.9426 - val_loss: 0.7962 - val_accuracy: 0.6870 - val_auc: 0.9475\n",
      "Epoch 42/150\n",
      "251/251 [==============================] - 35s 138ms/step - loss: 0.2660 - accuracy: 0.6875 - auc: 0.9416 - val_loss: 0.8475 - val_accuracy: 0.6670 - val_auc: 0.9411\n",
      "Epoch 43/150\n",
      "251/251 [==============================] - 35s 139ms/step - loss: 0.2719 - accuracy: 0.6870 - auc: 0.9412 - val_loss: 0.8577 - val_accuracy: 0.6730 - val_auc: 0.9410\n",
      "Epoch 44/150\n",
      "251/251 [==============================] - 35s 138ms/step - loss: 0.2756 - accuracy: 0.6789 - auc: 0.9400 - val_loss: 0.8309 - val_accuracy: 0.6790 - val_auc: 0.9439\n",
      "Epoch 45/150\n",
      "251/251 [==============================] - 34s 134ms/step - loss: 0.2648 - accuracy: 0.6921 - auc: 0.9450 - val_loss: 0.8398 - val_accuracy: 0.6790 - val_auc: 0.9420\n",
      "Epoch 46/150\n",
      "251/251 [==============================] - 28s 111ms/step - loss: 0.2550 - accuracy: 0.6905 - auc: 0.9451 - val_loss: 0.8231 - val_accuracy: 0.6910 - val_auc: 0.9448\n",
      "Epoch 47/150\n",
      "251/251 [==============================] - 28s 110ms/step - loss: 0.2571 - accuracy: 0.6903 - auc: 0.9444 - val_loss: 0.8311 - val_accuracy: 0.6850 - val_auc: 0.9448\n",
      "Epoch 48/150\n",
      "251/251 [==============================] - 28s 110ms/step - loss: 0.2505 - accuracy: 0.6943 - auc: 0.9451 - val_loss: 0.8385 - val_accuracy: 0.6910 - val_auc: 0.9449\n",
      "Epoch 49/150\n",
      "251/251 [==============================] - 28s 110ms/step - loss: 0.2439 - accuracy: 0.6971 - auc: 0.9480 - val_loss: 0.8292 - val_accuracy: 0.6780 - val_auc: 0.9455\n",
      "Epoch 50/150\n",
      "251/251 [==============================] - 28s 110ms/step - loss: 0.2470 - accuracy: 0.7010 - auc: 0.9479 - val_loss: 0.8091 - val_accuracy: 0.6710 - val_auc: 0.9458\n",
      "Epoch 51/150\n",
      "251/251 [==============================] - 28s 110ms/step - loss: 0.2478 - accuracy: 0.7070 - auc: 0.9489 - val_loss: 0.8040 - val_accuracy: 0.6830 - val_auc: 0.9466\n",
      "Epoch 52/150\n",
      "251/251 [==============================] - 28s 111ms/step - loss: 0.2390 - accuracy: 0.7120 - auc: 0.9505 - val_loss: 0.8009 - val_accuracy: 0.6880 - val_auc: 0.9480\n",
      "Epoch 53/150\n",
      "251/251 [==============================] - 28s 110ms/step - loss: 0.2354 - accuracy: 0.7152 - auc: 0.9522 - val_loss: 0.8117 - val_accuracy: 0.6890 - val_auc: 0.9462\n",
      "Epoch 54/150\n",
      "251/251 [==============================] - 28s 110ms/step - loss: 0.2313 - accuracy: 0.7174 - auc: 0.9529 - val_loss: 0.7925 - val_accuracy: 0.6910 - val_auc: 0.9493\n",
      "Epoch 55/150\n",
      "251/251 [==============================] - 28s 110ms/step - loss: 0.2313 - accuracy: 0.7125 - auc: 0.9532 - val_loss: 0.7820 - val_accuracy: 0.7030 - val_auc: 0.9498\n",
      "Epoch 56/150\n",
      "251/251 [==============================] - 28s 110ms/step - loss: 0.2226 - accuracy: 0.7162 - auc: 0.9540 - val_loss: 0.8113 - val_accuracy: 0.6760 - val_auc: 0.9472\n",
      "Epoch 57/150\n",
      "251/251 [==============================] - 28s 110ms/step - loss: 0.2295 - accuracy: 0.7167 - auc: 0.9536 - val_loss: 0.7972 - val_accuracy: 0.6970 - val_auc: 0.9489\n",
      "Epoch 58/150\n",
      "251/251 [==============================] - 28s 110ms/step - loss: 0.2207 - accuracy: 0.7260 - auc: 0.9553 - val_loss: 0.8190 - val_accuracy: 0.7010 - val_auc: 0.9475\n",
      "Epoch 59/150\n",
      "251/251 [==============================] - 28s 110ms/step - loss: 0.2097 - accuracy: 0.7330 - auc: 0.9574 - val_loss: 0.7736 - val_accuracy: 0.7110 - val_auc: 0.9520\n",
      "Epoch 60/150\n",
      "251/251 [==============================] - 28s 110ms/step - loss: 0.2122 - accuracy: 0.7201 - auc: 0.9541 - val_loss: 0.8291 - val_accuracy: 0.7030 - val_auc: 0.9466\n",
      "Epoch 61/150\n",
      "251/251 [==============================] - 28s 110ms/step - loss: 0.2164 - accuracy: 0.7280 - auc: 0.9573 - val_loss: 0.7933 - val_accuracy: 0.7050 - val_auc: 0.9507\n",
      "Epoch 62/150\n",
      "251/251 [==============================] - 28s 110ms/step - loss: 0.2120 - accuracy: 0.7261 - auc: 0.9564 - val_loss: 0.7934 - val_accuracy: 0.6850 - val_auc: 0.9495\n",
      "Epoch 63/150\n",
      "251/251 [==============================] - 28s 110ms/step - loss: 0.2036 - accuracy: 0.7335 - auc: 0.9598 - val_loss: 0.7703 - val_accuracy: 0.7070 - val_auc: 0.9517\n",
      "Epoch 64/150\n",
      "251/251 [==============================] - 28s 110ms/step - loss: 0.1927 - accuracy: 0.7527 - auc: 0.9625 - val_loss: 0.8019 - val_accuracy: 0.7200 - val_auc: 0.9511\n",
      "Epoch 65/150\n",
      "251/251 [==============================] - 28s 110ms/step - loss: 0.2111 - accuracy: 0.7246 - auc: 0.9559 - val_loss: 0.7775 - val_accuracy: 0.7200 - val_auc: 0.9527\n",
      "Epoch 66/150\n",
      "251/251 [==============================] - 28s 110ms/step - loss: 0.1922 - accuracy: 0.7446 - auc: 0.9619 - val_loss: 0.7890 - val_accuracy: 0.7200 - val_auc: 0.9505\n",
      "Epoch 67/150\n",
      "251/251 [==============================] - 28s 111ms/step - loss: 0.2007 - accuracy: 0.7451 - auc: 0.9613 - val_loss: 0.8225 - val_accuracy: 0.7000 - val_auc: 0.9496\n",
      "Epoch 68/150\n",
      "251/251 [==============================] - 28s 111ms/step - loss: 0.1957 - accuracy: 0.7498 - auc: 0.9620 - val_loss: 0.8127 - val_accuracy: 0.7110 - val_auc: 0.9489\n",
      "Epoch 69/150\n",
      "251/251 [==============================] - 28s 111ms/step - loss: 0.1945 - accuracy: 0.7456 - auc: 0.9617 - val_loss: 0.7956 - val_accuracy: 0.7200 - val_auc: 0.9513\n",
      "Epoch 70/150\n",
      "251/251 [==============================] - 28s 111ms/step - loss: 0.1782 - accuracy: 0.7484 - auc: 0.9637 - val_loss: 0.7515 - val_accuracy: 0.7260 - val_auc: 0.9544\n",
      "Epoch 71/150\n",
      "251/251 [==============================] - 28s 110ms/step - loss: 0.1904 - accuracy: 0.7559 - auc: 0.9643 - val_loss: 0.8569 - val_accuracy: 0.7140 - val_auc: 0.9459\n",
      "Epoch 72/150\n",
      "251/251 [==============================] - 28s 111ms/step - loss: 0.1797 - accuracy: 0.7602 - auc: 0.9650 - val_loss: 0.7825 - val_accuracy: 0.7320 - val_auc: 0.9538\n",
      "Epoch 73/150\n",
      "251/251 [==============================] - 28s 111ms/step - loss: 0.1864 - accuracy: 0.7474 - auc: 0.9633 - val_loss: 0.7231 - val_accuracy: 0.7420 - val_auc: 0.9579\n",
      "Epoch 74/150\n",
      "251/251 [==============================] - 28s 111ms/step - loss: 0.1748 - accuracy: 0.7554 - auc: 0.9652 - val_loss: 0.7526 - val_accuracy: 0.7330 - val_auc: 0.9562\n",
      "Epoch 75/150\n",
      "251/251 [==============================] - 28s 111ms/step - loss: 0.1811 - accuracy: 0.7549 - auc: 0.9643 - val_loss: 0.7791 - val_accuracy: 0.7330 - val_auc: 0.9528\n",
      "Epoch 76/150\n",
      "251/251 [==============================] - 28s 111ms/step - loss: 0.1753 - accuracy: 0.7620 - auc: 0.9663 - val_loss: 0.7760 - val_accuracy: 0.7300 - val_auc: 0.9548\n",
      "Epoch 77/150\n",
      "251/251 [==============================] - 28s 110ms/step - loss: 0.1760 - accuracy: 0.7599 - auc: 0.9656 - val_loss: 0.7774 - val_accuracy: 0.7310 - val_auc: 0.9552\n",
      "Epoch 78/150\n",
      "251/251 [==============================] - 28s 111ms/step - loss: 0.1672 - accuracy: 0.7622 - auc: 0.9676 - val_loss: 0.8169 - val_accuracy: 0.7300 - val_auc: 0.9510\n",
      "Epoch 79/150\n",
      "251/251 [==============================] - 28s 111ms/step - loss: 0.1709 - accuracy: 0.7588 - auc: 0.9664 - val_loss: 0.7531 - val_accuracy: 0.7400 - val_auc: 0.9556\n",
      "Epoch 80/150\n",
      "251/251 [==============================] - 28s 111ms/step - loss: 0.1579 - accuracy: 0.7735 - auc: 0.9677 - val_loss: 0.7672 - val_accuracy: 0.7340 - val_auc: 0.9537\n",
      "Epoch 81/150\n",
      "251/251 [==============================] - 28s 110ms/step - loss: 0.1762 - accuracy: 0.7599 - auc: 0.9663 - val_loss: 0.7902 - val_accuracy: 0.7220 - val_auc: 0.9497\n",
      "Epoch 82/150\n",
      "251/251 [==============================] - 28s 111ms/step - loss: 0.1672 - accuracy: 0.7705 - auc: 0.9679 - val_loss: 0.7833 - val_accuracy: 0.7390 - val_auc: 0.9522\n",
      "Epoch 83/150\n",
      "251/251 [==============================] - 28s 110ms/step - loss: 0.1592 - accuracy: 0.7749 - auc: 0.9690 - val_loss: 0.7866 - val_accuracy: 0.7230 - val_auc: 0.9523\n",
      "Epoch 84/150\n",
      "251/251 [==============================] - 28s 110ms/step - loss: 0.1557 - accuracy: 0.7801 - auc: 0.9694 - val_loss: 0.8035 - val_accuracy: 0.7180 - val_auc: 0.9508\n",
      "Epoch 85/150\n",
      "251/251 [==============================] - 28s 111ms/step - loss: 0.1537 - accuracy: 0.7843 - auc: 0.9715 - val_loss: 0.7774 - val_accuracy: 0.7230 - val_auc: 0.9551\n",
      "Epoch 86/150\n",
      "251/251 [==============================] - 28s 111ms/step - loss: 0.1500 - accuracy: 0.7814 - auc: 0.9703 - val_loss: 0.7704 - val_accuracy: 0.7250 - val_auc: 0.9543\n",
      "Epoch 87/150\n",
      "251/251 [==============================] - 28s 110ms/step - loss: 0.1529 - accuracy: 0.7841 - auc: 0.9714 - val_loss: 0.7727 - val_accuracy: 0.7360 - val_auc: 0.9556\n",
      "Epoch 88/150\n",
      "251/251 [==============================] - 28s 111ms/step - loss: 0.1485 - accuracy: 0.7804 - auc: 0.9705 - val_loss: 0.8253 - val_accuracy: 0.7340 - val_auc: 0.9542\n",
      "Epoch 89/150\n",
      "251/251 [==============================] - 28s 111ms/step - loss: 0.1426 - accuracy: 0.7896 - auc: 0.9725 - val_loss: 0.7792 - val_accuracy: 0.7310 - val_auc: 0.9546\n",
      "Epoch 90/150\n",
      "251/251 [==============================] - 28s 111ms/step - loss: 0.1491 - accuracy: 0.7820 - auc: 0.9711 - val_loss: 0.7381 - val_accuracy: 0.7430 - val_auc: 0.9568\n",
      "Epoch 91/150\n",
      "251/251 [==============================] - 28s 111ms/step - loss: 0.1464 - accuracy: 0.7875 - auc: 0.9728 - val_loss: 0.8770 - val_accuracy: 0.7170 - val_auc: 0.9481\n",
      "Epoch 92/150\n",
      "251/251 [==============================] - 28s 111ms/step - loss: 0.1463 - accuracy: 0.7774 - auc: 0.9709 - val_loss: 0.8227 - val_accuracy: 0.7320 - val_auc: 0.9523\n",
      "Epoch 93/150\n",
      "251/251 [==============================] - 28s 111ms/step - loss: 0.1448 - accuracy: 0.7894 - auc: 0.9729 - val_loss: 0.7759 - val_accuracy: 0.7320 - val_auc: 0.9556\n",
      "Epoch 94/150\n",
      "251/251 [==============================] - 28s 111ms/step - loss: 0.1349 - accuracy: 0.7959 - auc: 0.9743 - val_loss: 0.7876 - val_accuracy: 0.7510 - val_auc: 0.9569\n",
      "Epoch 95/150\n",
      "251/251 [==============================] - 28s 110ms/step - loss: 0.1377 - accuracy: 0.7848 - auc: 0.9723 - val_loss: 0.7509 - val_accuracy: 0.7550 - val_auc: 0.9580\n",
      "Epoch 96/150\n",
      "251/251 [==============================] - 28s 111ms/step - loss: 0.1392 - accuracy: 0.7835 - auc: 0.9725 - val_loss: 0.8379 - val_accuracy: 0.7460 - val_auc: 0.9522\n",
      "Epoch 97/150\n",
      "251/251 [==============================] - 28s 110ms/step - loss: 0.1360 - accuracy: 0.7876 - auc: 0.9737 - val_loss: 0.8439 - val_accuracy: 0.7320 - val_auc: 0.9505\n",
      "Epoch 98/150\n",
      "251/251 [==============================] - 28s 110ms/step - loss: 0.1342 - accuracy: 0.7985 - auc: 0.9755 - val_loss: 0.7889 - val_accuracy: 0.7290 - val_auc: 0.9554\n",
      "Epoch 99/150\n",
      "251/251 [==============================] - 28s 111ms/step - loss: 0.1441 - accuracy: 0.7933 - auc: 0.9744 - val_loss: 0.7728 - val_accuracy: 0.7410 - val_auc: 0.9555\n",
      "Epoch 100/150\n",
      "251/251 [==============================] - 28s 111ms/step - loss: 0.1319 - accuracy: 0.8036 - auc: 0.9767 - val_loss: 0.7162 - val_accuracy: 0.7630 - val_auc: 0.9607\n",
      "Epoch 101/150\n",
      "251/251 [==============================] - 28s 111ms/step - loss: 0.1294 - accuracy: 0.8035 - auc: 0.9770 - val_loss: 0.8058 - val_accuracy: 0.7440 - val_auc: 0.9537\n",
      "Epoch 102/150\n",
      "251/251 [==============================] - 28s 110ms/step - loss: 0.1287 - accuracy: 0.8017 - auc: 0.9759 - val_loss: 0.7832 - val_accuracy: 0.7410 - val_auc: 0.9570\n",
      "Epoch 103/150\n",
      "251/251 [==============================] - 28s 111ms/step - loss: 0.1180 - accuracy: 0.8135 - auc: 0.9783 - val_loss: 0.7996 - val_accuracy: 0.7530 - val_auc: 0.9543\n",
      "Epoch 104/150\n",
      "251/251 [==============================] - 28s 111ms/step - loss: 0.1210 - accuracy: 0.7995 - auc: 0.9759 - val_loss: 0.7408 - val_accuracy: 0.7600 - val_auc: 0.9581\n",
      "Epoch 105/150\n",
      "251/251 [==============================] - 28s 111ms/step - loss: 0.1239 - accuracy: 0.8122 - auc: 0.9778 - val_loss: 0.7374 - val_accuracy: 0.7640 - val_auc: 0.9599\n",
      "Epoch 106/150\n",
      "251/251 [==============================] - 28s 111ms/step - loss: 0.1185 - accuracy: 0.8161 - auc: 0.9776 - val_loss: 0.7323 - val_accuracy: 0.7530 - val_auc: 0.9607\n",
      "Epoch 107/150\n",
      "251/251 [==============================] - 28s 111ms/step - loss: 0.1205 - accuracy: 0.7984 - auc: 0.9738 - val_loss: 0.7623 - val_accuracy: 0.7440 - val_auc: 0.9578\n",
      "Epoch 108/150\n",
      "251/251 [==============================] - 28s 110ms/step - loss: 0.1169 - accuracy: 0.8130 - auc: 0.9773 - val_loss: 0.7417 - val_accuracy: 0.7490 - val_auc: 0.9589\n",
      "Epoch 109/150\n",
      "251/251 [==============================] - 28s 113ms/step - loss: 0.1161 - accuracy: 0.8190 - auc: 0.9795 - val_loss: 0.7840 - val_accuracy: 0.7440 - val_auc: 0.9568\n",
      "Epoch 110/150\n",
      "251/251 [==============================] - 28s 112ms/step - loss: 0.1133 - accuracy: 0.8241 - auc: 0.9803 - val_loss: 0.7882 - val_accuracy: 0.7490 - val_auc: 0.9562\n",
      "Epoch 111/150\n",
      "251/251 [==============================] - 28s 110ms/step - loss: 0.1162 - accuracy: 0.8137 - auc: 0.9773 - val_loss: 0.7542 - val_accuracy: 0.7550 - val_auc: 0.9586\n",
      "Epoch 112/150\n",
      "251/251 [==============================] - 28s 110ms/step - loss: 0.1105 - accuracy: 0.8280 - auc: 0.9809 - val_loss: 0.7765 - val_accuracy: 0.7440 - val_auc: 0.9577\n",
      "Epoch 113/150\n",
      "251/251 [==============================] - 28s 113ms/step - loss: 0.1032 - accuracy: 0.8281 - auc: 0.9807 - val_loss: 0.8038 - val_accuracy: 0.7450 - val_auc: 0.9561\n",
      "Epoch 114/150\n",
      "251/251 [==============================] - 29s 113ms/step - loss: 0.1030 - accuracy: 0.8237 - auc: 0.9802 - val_loss: 0.8085 - val_accuracy: 0.7530 - val_auc: 0.9568\n",
      "Epoch 115/150\n",
      "251/251 [==============================] - 28s 111ms/step - loss: 0.1015 - accuracy: 0.8257 - auc: 0.9805 - val_loss: 0.7948 - val_accuracy: 0.7570 - val_auc: 0.9566\n",
      "Epoch 116/150\n",
      "251/251 [==============================] - 28s 111ms/step - loss: 0.1116 - accuracy: 0.8253 - auc: 0.9804 - val_loss: 0.7839 - val_accuracy: 0.7650 - val_auc: 0.9594\n",
      "Epoch 117/150\n",
      "251/251 [==============================] - 28s 111ms/step - loss: 0.1058 - accuracy: 0.8247 - auc: 0.9807 - val_loss: 0.7746 - val_accuracy: 0.7460 - val_auc: 0.9581\n",
      "Epoch 118/150\n",
      "251/251 [==============================] - 28s 111ms/step - loss: 0.1072 - accuracy: 0.8207 - auc: 0.9802 - val_loss: 0.7720 - val_accuracy: 0.7520 - val_auc: 0.9596\n",
      "Epoch 119/150\n",
      "251/251 [==============================] - 29s 114ms/step - loss: 0.1179 - accuracy: 0.8197 - auc: 0.9808 - val_loss: 0.7830 - val_accuracy: 0.7390 - val_auc: 0.9590\n",
      "Epoch 120/150\n",
      "251/251 [==============================] - 28s 110ms/step - loss: 0.0955 - accuracy: 0.8377 - auc: 0.9835 - val_loss: 0.7449 - val_accuracy: 0.7680 - val_auc: 0.9609\n",
      "Epoch 121/150\n",
      "251/251 [==============================] - 28s 110ms/step - loss: 0.0953 - accuracy: 0.8361 - auc: 0.9835 - val_loss: 0.8044 - val_accuracy: 0.7520 - val_auc: 0.9548\n",
      "Epoch 122/150\n",
      "251/251 [==============================] - 28s 110ms/step - loss: 0.0990 - accuracy: 0.8434 - auc: 0.9830 - val_loss: 0.7856 - val_accuracy: 0.7630 - val_auc: 0.9575\n",
      "Epoch 123/150\n",
      "251/251 [==============================] - 28s 111ms/step - loss: 0.0979 - accuracy: 0.8487 - auc: 0.9830 - val_loss: 0.8047 - val_accuracy: 0.7620 - val_auc: 0.9587\n",
      "Epoch 124/150\n",
      "251/251 [==============================] - 28s 111ms/step - loss: 0.0961 - accuracy: 0.8407 - auc: 0.9828 - val_loss: 0.7922 - val_accuracy: 0.7640 - val_auc: 0.9584\n",
      "Epoch 125/150\n",
      "251/251 [==============================] - 28s 113ms/step - loss: 0.0927 - accuracy: 0.8481 - auc: 0.9849 - val_loss: 0.8162 - val_accuracy: 0.7550 - val_auc: 0.9581\n",
      "Epoch 126/150\n",
      "251/251 [==============================] - 28s 110ms/step - loss: 0.0925 - accuracy: 0.8347 - auc: 0.9820 - val_loss: 0.7956 - val_accuracy: 0.7540 - val_auc: 0.9584\n",
      "Epoch 127/150\n",
      "251/251 [==============================] - 28s 110ms/step - loss: 0.0972 - accuracy: 0.8390 - auc: 0.9840 - val_loss: 0.7986 - val_accuracy: 0.7490 - val_auc: 0.9594\n",
      "Epoch 128/150\n",
      "251/251 [==============================] - 28s 111ms/step - loss: 0.0981 - accuracy: 0.8385 - auc: 0.9839 - val_loss: 0.7707 - val_accuracy: 0.7640 - val_auc: 0.9617\n",
      "Epoch 129/150\n",
      "251/251 [==============================] - 28s 111ms/step - loss: 0.0896 - accuracy: 0.8412 - auc: 0.9843 - val_loss: 0.7798 - val_accuracy: 0.7540 - val_auc: 0.9585\n",
      "Epoch 130/150\n",
      "251/251 [==============================] - 28s 110ms/step - loss: 0.0881 - accuracy: 0.8497 - auc: 0.9850 - val_loss: 0.7954 - val_accuracy: 0.7540 - val_auc: 0.9593\n",
      "Epoch 131/150\n",
      "251/251 [==============================] - 28s 110ms/step - loss: 0.0817 - accuracy: 0.8466 - auc: 0.9848 - val_loss: 0.7951 - val_accuracy: 0.7540 - val_auc: 0.9599\n",
      "Epoch 132/150\n",
      "251/251 [==============================] - 28s 110ms/step - loss: 0.0838 - accuracy: 0.8514 - auc: 0.9857 - val_loss: 0.8987 - val_accuracy: 0.7460 - val_auc: 0.9538\n",
      "Epoch 133/150\n",
      "251/251 [==============================] - 28s 111ms/step - loss: 0.0878 - accuracy: 0.8363 - auc: 0.9836 - val_loss: 0.8051 - val_accuracy: 0.7520 - val_auc: 0.9557\n",
      "Epoch 134/150\n",
      "251/251 [==============================] - 28s 111ms/step - loss: 0.0955 - accuracy: 0.8444 - auc: 0.9846 - val_loss: 0.8233 - val_accuracy: 0.7570 - val_auc: 0.9563\n",
      "Epoch 135/150\n",
      "251/251 [==============================] - 28s 111ms/step - loss: 0.0873 - accuracy: 0.8499 - auc: 0.9847 - val_loss: 0.8414 - val_accuracy: 0.7530 - val_auc: 0.9533\n",
      "Epoch 136/150\n",
      "251/251 [==============================] - 28s 111ms/step - loss: 0.0849 - accuracy: 0.8439 - auc: 0.9848 - val_loss: 0.8091 - val_accuracy: 0.7600 - val_auc: 0.9552\n",
      "Epoch 137/150\n",
      "251/251 [==============================] - 28s 110ms/step - loss: 0.0747 - accuracy: 0.8637 - auc: 0.9871 - val_loss: 0.8536 - val_accuracy: 0.7360 - val_auc: 0.9526\n",
      "Epoch 138/150\n",
      "251/251 [==============================] - 28s 110ms/step - loss: 0.0767 - accuracy: 0.8579 - auc: 0.9868 - val_loss: 0.8259 - val_accuracy: 0.7490 - val_auc: 0.9559\n",
      "Epoch 139/150\n",
      "251/251 [==============================] - 28s 110ms/step - loss: 0.0737 - accuracy: 0.8667 - auc: 0.9876 - val_loss: 0.8498 - val_accuracy: 0.7540 - val_auc: 0.9560\n",
      "Epoch 140/150\n",
      "251/251 [==============================] - 28s 110ms/step - loss: 0.0727 - accuracy: 0.8627 - auc: 0.9869 - val_loss: 0.8818 - val_accuracy: 0.7520 - val_auc: 0.9526\n",
      "Epoch 141/150\n",
      "251/251 [==============================] - 28s 111ms/step - loss: 0.0787 - accuracy: 0.8556 - auc: 0.9856 - val_loss: 0.8425 - val_accuracy: 0.7370 - val_auc: 0.9554\n",
      "Epoch 142/150\n",
      "251/251 [==============================] - 29s 114ms/step - loss: 0.0787 - accuracy: 0.8685 - auc: 0.9880 - val_loss: 0.8119 - val_accuracy: 0.7710 - val_auc: 0.9551\n",
      "Epoch 143/150\n",
      "251/251 [==============================] - 28s 111ms/step - loss: 0.0810 - accuracy: 0.8620 - auc: 0.9875 - val_loss: 0.8085 - val_accuracy: 0.7590 - val_auc: 0.9554\n",
      "Epoch 144/150\n",
      "251/251 [==============================] - 28s 110ms/step - loss: 0.0736 - accuracy: 0.8683 - auc: 0.9875 - val_loss: 0.7792 - val_accuracy: 0.7630 - val_auc: 0.9582\n",
      "Epoch 145/150\n",
      "251/251 [==============================] - 29s 115ms/step - loss: 0.0717 - accuracy: 0.8747 - auc: 0.9885 - val_loss: 0.7873 - val_accuracy: 0.7690 - val_auc: 0.9615\n",
      "Epoch 146/150\n",
      "251/251 [==============================] - 28s 113ms/step - loss: 0.0712 - accuracy: 0.8674 - auc: 0.9878 - val_loss: 0.8630 - val_accuracy: 0.7670 - val_auc: 0.9558\n",
      "Epoch 147/150\n",
      "251/251 [==============================] - 28s 113ms/step - loss: 0.0699 - accuracy: 0.8685 - auc: 0.9876 - val_loss: 0.8458 - val_accuracy: 0.7530 - val_auc: 0.9547\n",
      "Epoch 148/150\n",
      "251/251 [==============================] - 28s 113ms/step - loss: 0.0693 - accuracy: 0.8640 - auc: 0.9874 - val_loss: 0.8173 - val_accuracy: 0.7530 - val_auc: 0.9565\n",
      "Epoch 149/150\n",
      "251/251 [==============================] - 28s 113ms/step - loss: 0.0702 - accuracy: 0.8655 - auc: 0.9882 - val_loss: 0.8355 - val_accuracy: 0.7560 - val_auc: 0.9549\n",
      "Epoch 150/150\n",
      "251/251 [==============================] - 28s 111ms/step - loss: 0.0777 - accuracy: 0.8679 - auc: 0.9877 - val_loss: 0.9394 - val_accuracy: 0.7540 - val_auc: 0.9473\n"
     ]
    }
   ],
   "source": [
    "EPOCHS = 150\n",
    "\n",
    "BATCH_SIZE = 16\n",
    "\n",
    "classweights = {\n",
    "  0 : 1.5718654434250765,\n",
    "  1: 1.0,\n",
    "  2 : 0.467697907188353,\n",
    "  3 : 4.469565217391304,\n",
    "  4 : 0.4618149146451033,\n",
    "  5 : 0.07665920954511558,\n",
    "  6 : 3.619718309859155\n",
    "}\n",
    "\n",
    "\n",
    "# train the model on the new data for a few epochs\n",
    "history = model.fit(x=train_data,validation_data=val_data,\n",
    "                              epochs = EPOCHS,verbose = 1, class_weight = classweights)"
   ]
  },
  {
   "cell_type": "markdown",
   "metadata": {
    "id": "7eKAdFwLeUw_"
   },
   "source": [
    "# Building The Model"
   ]
  },
  {
   "cell_type": "code",
   "execution_count": 29,
   "metadata": {
    "id": "L_VtmyGjuNvy",
    "outputId": "d39a3fc9-9f06-4c29-8198-77a0759b4631"
   },
   "outputs": [
    {
     "name": "stdout",
     "output_type": "stream",
     "text": [
      "32/32 [==============================] - 2s 54ms/step - loss: 0.9514 - accuracy: 0.7229 - auc: 0.9471\n",
      "loss: 0.9514062404632568\n",
      "accuracy: 0.7229394316673279\n",
      "AUC Score: 0.9471375942230225\n"
     ]
    }
   ],
   "source": [
    "loss,accuracy,auc = model.evaluate(test_data)\n",
    "\n",
    "print(\"loss: {}\".format(loss))\n",
    "print(\"accuracy: {}\".format(accuracy))\n",
    "print(\"AUC Score: {}\".format(auc))"
   ]
  },
  {
   "cell_type": "code",
   "execution_count": 30,
   "metadata": {
    "id": "owQ-Dlcy7Sm6",
    "outputId": "0518b62f-b7fe-4a14-d6a1-3995e1eb0ddd"
   },
   "outputs": [
    {
     "data": {
      "image/png": "[encoded data removed]",
      "text/plain": [
       "<Figure size 432x288 with 1 Axes>"
      ]
     },
     "metadata": {
      "needs_background": "light"
     },
     "output_type": "display_data"
    }
   ],
   "source": [
    "plt.plot(history.history['accuracy'])\n",
    "plt.plot(history.history['val_accuracy'])\n",
    "plt.title('Model Accuracy')\n",
    "plt.ylabel('Accuracy')\n",
    "plt.xlabel('Epoch')\n",
    "plt.legend(['Train Accuracy', 'Test Accuracy'], loc='upper left')\n",
    "plt.show()"
   ]
  },
  {
   "cell_type": "code",
   "execution_count": 31,
   "metadata": {
    "id": "TnEDPMc_7Sm7",
    "outputId": "2fd3a7db-38d1-4d79-c688-47c1c877ac81"
   },
   "outputs": [
    {
     "data": {
      "image/png": "[encoded data removed]",
      "text/plain": [
       "<Figure size 432x288 with 1 Axes>"
      ]
     },
     "metadata": {
      "needs_background": "light"
     },
     "output_type": "display_data"
    }
   ],
   "source": [
    "plt.plot(history.history['loss'])\n",
    "plt.plot(history.history['val_loss'])\n",
    "plt.title('Model Loss')\n",
    "plt.ylabel('Loss')\n",
    "plt.xlabel('Epoch')\n",
    "plt.legend(['Train Loss', 'Test Loss'], loc='upper left')\n",
    "plt.show()"
   ]
  },
  {
   "cell_type": "code",
   "execution_count": 32,
   "metadata": {},
   "outputs": [
    {
     "data": {
      "image/png": "[encoded data removed]",
      "text/plain": [
       "<Figure size 432x288 with 1 Axes>"
      ]
     },
     "metadata": {
      "needs_background": "light"
     },
     "output_type": "display_data"
    }
   ],
   "source": [
    "plt.plot(history.history['auc'])\n",
    "plt.plot(history.history['val_auc'])\n",
    "plt.title('Model AUC Score')\n",
    "plt.ylabel('AUC Score')\n",
    "plt.xlabel('Epoch')\n",
    "plt.legend(['Train AUC', 'Test AUC'], loc='upper left')\n",
    "plt.show()"
   ]
  },
  {
   "cell_type": "code",
   "execution_count": null,
   "metadata": {
    "id": "oelRoQOAE8E2"
   },
   "outputs": [],
   "source": [
    "# cnn.save('/content/drive/MyDrive/Capstone Project/Saved Models/first_model.h5')"
   ]
  },
  {
   "cell_type": "code",
   "execution_count": null,
   "metadata": {
    "id": "phlfHDQkMo6r"
   },
   "outputs": [],
   "source": [
    "# from keras.models import load_model\n",
    "# model = load_model(\"/content/drive/MyDrive/Capstone Project/Saved Models/first_model.h5\")"
   ]
  },
  {
   "cell_type": "code",
   "execution_count": null,
   "metadata": {
    "id": "gbRulQm57Sm9"
   },
   "outputs": [],
   "source": []
  }
 ],
 "metadata": {
  "accelerator": "GPU",
  "colab": {
   "name": "[V_1.2]SKIN_DISEASE_PREDICTION withKeras Tuner.ipynb",
   "provenance": []
  },
  "kernelspec": {
   "display_name": "Python 3",
   "language": "python",
   "name": "python3"
  },
  "language_info": {
   "codemirror_mode": {
    "name": "ipython",
    "version": 3
   },
   "file_extension": ".py",
   "mimetype": "text/x-python",
   "name": "python",
   "nbconvert_exporter": "python",
   "pygments_lexer": "ipython3",
   "version": "3.9.5"
  }
 },
 "nbformat": 4,
 "nbformat_minor": 1
}
